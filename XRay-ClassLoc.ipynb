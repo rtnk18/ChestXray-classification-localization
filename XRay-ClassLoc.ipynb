{
  "nbformat": 4,
  "nbformat_minor": 0,
  "metadata": {
    "colab": {
      "name": "Capstone.ipynb",
      "version": "0.3.2",
      "provenance": [],
      "collapsed_sections": [
        "bp3O2bPtiPoh"
      ],
      "toc_visible": true
    },
    "language_info": {
      "codemirror_mode": {
        "name": "ipython",
        "version": 3
      },
      "file_extension": ".py",
      "mimetype": "text/x-python",
      "name": "python",
      "nbconvert_exporter": "python",
      "pygments_lexer": "ipython3",
      "version": "3.6.8"
    },
    "kernelspec": {
      "name": "python3",
      "display_name": "Python 3"
    },
    "accelerator": "GPU"
  },
  "cells": [
    {
      "cell_type": "code",
      "metadata": {
        "id": "3EWgTlFBqfml",
        "colab_type": "code",
        "colab": {}
      },
      "source": [
        "import os, shutil\n",
        "import numpy as np\n",
        "import pandas as pd\n",
        "import matplotlib.pyplot as plt\n",
        "import seaborn as sns; sns.set()\n",
        "\n",
        "from sklearn.model_selection import train_test_split\n",
        "import sklearn.metrics as sm"
      ],
      "execution_count": 0,
      "outputs": []
    },
    {
      "cell_type": "markdown",
      "metadata": {
        "id": "ReGD3igoqfms",
        "colab_type": "text"
      },
      "source": [
        "# Data Import"
      ]
    },
    {
      "cell_type": "code",
      "metadata": {
        "id": "Ex6hUGrJqfmt",
        "colab_type": "code",
        "colab": {}
      },
      "source": [
        "data_list = pd.read_csv('/content/Data_Entry_2017.csv')"
      ],
      "execution_count": 0,
      "outputs": []
    },
    {
      "cell_type": "code",
      "metadata": {
        "id": "n7J4EFOlqfmv",
        "colab_type": "code",
        "colab": {}
      },
      "source": [
        "data_list.head()"
      ],
      "execution_count": 0,
      "outputs": []
    },
    {
      "cell_type": "code",
      "metadata": {
        "id": "jzQE_lC8qfm1",
        "colab_type": "code",
        "colab": {}
      },
      "source": [
        "data_list = data_list.iloc[:, [0,1]]"
      ],
      "execution_count": 0,
      "outputs": []
    },
    {
      "cell_type": "code",
      "metadata": {
        "id": "lOgkwe_Dqfm3",
        "colab_type": "code",
        "outputId": "be7f57b4-b4fb-4e03-9676-ec75867d77c5",
        "colab": {}
      },
      "source": [
        "data_list.describe()"
      ],
      "execution_count": 0,
      "outputs": [
        {
          "output_type": "execute_result",
          "data": {
            "text/html": [
              "<div>\n",
              "<style scoped>\n",
              "    .dataframe tbody tr th:only-of-type {\n",
              "        vertical-align: middle;\n",
              "    }\n",
              "\n",
              "    .dataframe tbody tr th {\n",
              "        vertical-align: top;\n",
              "    }\n",
              "\n",
              "    .dataframe thead th {\n",
              "        text-align: right;\n",
              "    }\n",
              "</style>\n",
              "<table border=\"1\" class=\"dataframe\">\n",
              "  <thead>\n",
              "    <tr style=\"text-align: right;\">\n",
              "      <th></th>\n",
              "      <th>Image Index</th>\n",
              "      <th>Finding Labels</th>\n",
              "    </tr>\n",
              "  </thead>\n",
              "  <tbody>\n",
              "    <tr>\n",
              "      <th>count</th>\n",
              "      <td>86531</td>\n",
              "      <td>86531</td>\n",
              "    </tr>\n",
              "    <tr>\n",
              "      <th>unique</th>\n",
              "      <td>86531</td>\n",
              "      <td>9</td>\n",
              "    </tr>\n",
              "    <tr>\n",
              "      <th>top</th>\n",
              "      <td>00025063_000.png</td>\n",
              "      <td>No Finding</td>\n",
              "    </tr>\n",
              "    <tr>\n",
              "      <th>freq</th>\n",
              "      <td>1</td>\n",
              "      <td>60361</td>\n",
              "    </tr>\n",
              "  </tbody>\n",
              "</table>\n",
              "</div>"
            ],
            "text/plain": [
              "             Image Index Finding Labels\n",
              "count              86531          86531\n",
              "unique             86531              9\n",
              "top     00025063_000.png     No Finding\n",
              "freq                   1          60361"
            ]
          },
          "metadata": {
            "tags": []
          },
          "execution_count": 28
        }
      ]
    },
    {
      "cell_type": "markdown",
      "metadata": {
        "id": "VbcbTiMZqfm5",
        "colab_type": "text"
      },
      "source": [
        "# EDA"
      ]
    },
    {
      "cell_type": "code",
      "metadata": {
        "id": "hkRxvWBdqfm6",
        "colab_type": "code",
        "colab": {}
      },
      "source": [
        "counts = data_list.groupby(['Finding Labels']).agg({'Image Index':'count'})\n",
        "counts.sort_values('Image Index', ascending=False, inplace=True)"
      ],
      "execution_count": 0,
      "outputs": []
    },
    {
      "cell_type": "code",
      "metadata": {
        "id": "kn3LoqGWdHhz",
        "colab_type": "code",
        "outputId": "e7bb5e6e-40b5-4f00-a457-411e4b4554ef",
        "colab": {
          "base_uri": "https://localhost:8080/",
          "height": 226
        }
      },
      "source": [
        "counts = data_list['Finding Labels'].value_counts()[:10]\n",
        "counts.sort_values(ascending=True, inplace=True)\n",
        "counts"
      ],
      "execution_count": 0,
      "outputs": [
        {
          "output_type": "execute_result",
          "data": {
            "text/plain": [
              "Consolidation                1310\n",
              "Atelectasis|Infiltration     1350\n",
              "Effusion|Infiltration        1603\n",
              "Mass                         2139\n",
              "Pneumothorax                 2194\n",
              "Nodule                       2705\n",
              "Effusion                     3955\n",
              "Atelectasis                  4215\n",
              "Infiltration                 9547\n",
              "No Finding                  60361\n",
              "Name: Finding Labels, dtype: int64"
            ]
          },
          "metadata": {
            "tags": []
          },
          "execution_count": 17
        }
      ]
    },
    {
      "cell_type": "code",
      "metadata": {
        "id": "WCyCQrD9qfm8",
        "colab_type": "code",
        "outputId": "c7d0b134-f7cd-43e3-d1b3-edec34122c2c",
        "colab": {
          "base_uri": "https://localhost:8080/",
          "height": 610
        }
      },
      "source": [
        "plt.figure(figsize=(16,10))\n",
        "plt.barh(y=counts.index, width=counts.values)\n",
        "plt.title('Disease Label Counts')\n",
        "plt.show()"
      ],
      "execution_count": 0,
      "outputs": [
        {
          "output_type": "display_data",
          "data": {
            "image/png": "[encoded data removed]",
            "text/plain": [
              "<Figure size 1152x720 with 1 Axes>"
            ]
          },
          "metadata": {
            "tags": []
          }
        }
      ]
    },
    {
      "cell_type": "markdown",
      "metadata": {
        "id": "hriR05wmqfm-",
        "colab_type": "text"
      },
      "source": [
        "# Data Segregation"
      ]
    },
    {
      "cell_type": "code",
      "metadata": {
        "id": "p2Wh8Q6bqfm-",
        "colab_type": "code",
        "colab": {}
      },
      "source": [
        "disease_list = data_list[data_list['Finding Labels'] != 'No Finding']\n",
        "Nodisease_list = data_list[data_list['Finding Labels'] == 'No Finding'].sample(2000, random_state=0)"
      ],
      "execution_count": 0,
      "outputs": []
    },
    {
      "cell_type": "code",
      "metadata": {
        "id": "8Rq5sa4NqfnA",
        "colab_type": "code",
        "colab": {}
      },
      "source": [
        "data_list = pd.concat([disease_list, Nodisease_list], axis=0)\n",
        "data_list.sort_index(inplace=True)"
      ],
      "execution_count": 0,
      "outputs": []
    },
    {
      "cell_type": "code",
      "metadata": {
        "id": "xrEWR_rYqfnC",
        "colab_type": "code",
        "outputId": "32c080e2-2d12-4d77-fc75-586eea1c4936",
        "colab": {}
      },
      "source": [
        "len(data_list)"
      ],
      "execution_count": 0,
      "outputs": [
        {
          "output_type": "execute_result",
          "data": {
            "text/plain": [
              "28170"
            ]
          },
          "metadata": {
            "tags": []
          },
          "execution_count": 37
        }
      ]
    },
    {
      "cell_type": "code",
      "metadata": {
        "id": "3cp1GkrrqfnE",
        "colab_type": "code",
        "colab": {}
      },
      "source": [
        "X_train, X_test, y_train, y_test = train_test_split(data_list['Image Index'], data_list['Finding Labels'], \n",
        "                                                    test_size=0.05, random_state=0, stratify=data_list['Finding Labels'])"
      ],
      "execution_count": 0,
      "outputs": []
    },
    {
      "cell_type": "code",
      "metadata": {
        "id": "S-rNkVYzqfnG",
        "colab_type": "code",
        "colab": {}
      },
      "source": [
        "data_train = pd.concat([X_train, y_train], axis=1)\n",
        "data_test = pd.concat([X_test, y_test], axis=1)"
      ],
      "execution_count": 0,
      "outputs": []
    },
    {
      "cell_type": "markdown",
      "metadata": {
        "id": "9KVniEgJqfnI",
        "colab_type": "text"
      },
      "source": [
        "**Segregating Data**"
      ]
    },
    {
      "cell_type": "code",
      "metadata": {
        "id": "biTiF6i8qfnI",
        "colab_type": "code",
        "colab": {}
      },
      "source": [
        "original_dataset_dir = '/home/rajat/Documents/Aegis/CAPSTONE/Data - CXR8/Data/images'\n",
        "\n",
        "base_dir = '/home/rajat/Documents/Aegis/CAPSTONE/Data - CXR8/Data/images_small'\n",
        "os.mkdir(base_dir)\n",
        "\n",
        "train_dir = os.path.join(base_dir, 'train')\n",
        "os.mkdir(train_dir)\n",
        "validation_dir = os.path.join(base_dir, 'validation')\n",
        "os.mkdir(validation_dir)"
      ],
      "execution_count": 0,
      "outputs": []
    },
    {
      "cell_type": "code",
      "metadata": {
        "id": "9qiQ1KTkqfnK",
        "colab_type": "code",
        "colab": {}
      },
      "source": [
        "for i in counts.index:\n",
        "    os.mkdir(os.path.join(train_dir, i))\n",
        "    for fname in data_train[data_train['Finding Labels'] == i]['Image Index']:\n",
        "        src = os.path.join(original_dataset_dir, fname)\n",
        "        dst = os.path.join(train_dir+'/'+i, fname)\n",
        "        shutil.copyfile(src, dst)"
      ],
      "execution_count": 0,
      "outputs": []
    },
    {
      "cell_type": "code",
      "metadata": {
        "id": "V1da9xitqfnN",
        "colab_type": "code",
        "colab": {}
      },
      "source": [
        "for i in counts.index:\n",
        "    os.mkdir(os.path.join(validation_dir, i))\n",
        "    for fname in data_test[data_test['Finding Labels'] == i]['Image Index']:\n",
        "        src = os.path.join(original_dataset_dir, fname)\n",
        "        dst = os.path.join(validation_dir+'/'+i, fname)\n",
        "        shutil.copyfile(src, dst)"
      ],
      "execution_count": 0,
      "outputs": []
    },
    {
      "cell_type": "markdown",
      "metadata": {
        "id": "gPUJAzZD2CuK",
        "colab_type": "text"
      },
      "source": [
        "# Loading Data in Colab"
      ]
    },
    {
      "cell_type": "code",
      "metadata": {
        "id": "-wpmFVYAqjU3",
        "colab_type": "code",
        "outputId": "463c3563-6c9a-49af-8478-05e37fbd92bb",
        "colab": {
          "base_uri": "https://localhost:8080/",
          "height": 132
        }
      },
      "source": [
        "from google.colab import drive\n",
        "drive.mount('/content/gdrive')"
      ],
      "execution_count": 0,
      "outputs": [
        {
          "output_type": "stream",
          "text": [
            "Go to this URL in a browser: https://accounts.google.com/o/oauth2/auth?client_id=947318989803-6bn6qk8qdgf4n4g3pfee6491hc0brc4i.apps.googleusercontent.com&redirect_uri=urn%3Aietf%3Awg%3Aoauth%3A2.0%3Aoob&scope=email%20https%3A%2F%2Fwww.googleapis.com%2Fauth%2Fdocs.test%20https%3A%2F%2Fwww.googleapis.com%2Fauth%2Fdrive%20https%3A%2F%2Fwww.googleapis.com%2Fauth%2Fdrive.photos.readonly%20https%3A%2F%2Fwww.googleapis.com%2Fauth%2Fpeopleapi.readonly&response_type=code\n",
            "\n",
            "Enter your authorization code:\n",
            "··········\n",
            "Mounted at /content/gdrive\n"
          ],
          "name": "stdout"
        }
      ]
    },
    {
      "cell_type": "code",
      "metadata": {
        "id": "X6yYCYjBq3QI",
        "colab_type": "code",
        "outputId": "f67fed55-2965-4be2-9bba-340ff44292da",
        "colab": {
          "base_uri": "https://localhost:8080/",
          "height": 55
        }
      },
      "source": [
        "from zipfile import ZipFile\n",
        "\n",
        "file_name1 = '/content/gdrive/My Drive/Dataset/images_small.zip'\n",
        "\n",
        "with ZipFile(file_name1, 'r') as zip: \n",
        "    print('Extracting all the files now...') \n",
        "    zip.extractall() \n",
        "    print('Done!') "
      ],
      "execution_count": 0,
      "outputs": [
        {
          "output_type": "stream",
          "text": [
            "Extracting all the files now...\n",
            "Done!\n"
          ],
          "name": "stdout"
        }
      ]
    },
    {
      "cell_type": "code",
      "metadata": {
        "id": "XZb8VRGCKbl7",
        "colab_type": "code",
        "outputId": "6f96b5b9-9c8d-411b-9654-0795cb8cda56",
        "colab": {
          "base_uri": "https://localhost:8080/",
          "height": 188
        }
      },
      "source": [
        "# Download the 56 zip files in Images_png in batches\n",
        "import urllib.request, urllib.parse, urllib.error\n",
        "\n",
        "# URLs for the zip files\n",
        "links = [\n",
        "    'https://nihcc.box.com/shared/static/vfk49d74nhbxq3nqjg0900w5nvkorp5c.gz',\n",
        "    'https://nihcc.box.com/shared/static/i28rlmbvmfjbl8p2n3ril0pptcmcu9d1.gz',\n",
        "    'https://nihcc.box.com/shared/static/f1t00wrtdk94satdfb9olcolqx20z2jp.gz',\n",
        "\t'https://nihcc.box.com/shared/static/0aowwzs5lhjrceb3qp67ahp0rd1l1etg.gz',\n",
        "    'https://nihcc.box.com/shared/static/v5e3goj22zr6h8tzualxfsqlqaygfbsn.gz',\n",
        "\t\n",
        "\t'https://nihcc.box.com/shared/static/asi7ikud9jwnkrnkj99jnpfkjdes7l6l.gz',\n",
        "\t'https://nihcc.box.com/shared/static/jn1b4mw4n6lnh74ovmcjb8y48h8xj07n.gz',\n",
        "    'https://nihcc.box.com/shared/static/tvpxmn7qyrgl0w8wfh9kqfjskv6nmm1j.gz',\n",
        "\t'https://nihcc.box.com/shared/static/upyy3ml7qdumlgk2rfcvlb9k6gvqq2pj.gz',\n",
        "\t'https://nihcc.box.com/shared/static/l6nilvfa9cg3s28tqv1qc1olm3gnz54p.gz',\n",
        "\t'https://nihcc.box.com/shared/static/hhq8fkdgvcari67vfhs7ppg2w6ni4jze.gz',\n",
        "\t'https://nihcc.box.com/shared/static/ioqwiy20ihqwyr8pf4c24eazhh281pbu.gz'\n",
        "]\n",
        "\n",
        "for idx, link in enumerate(links):\n",
        "    fn = 'images_%02d.tar.gz' % (idx+1)\n",
        "    print('downloading', fn, '...')\n",
        "    urllib.request.urlretrieve(link, fn)  # download the zip file\n",
        "print(\"Download complete.\")"
      ],
      "execution_count": 0,
      "outputs": [
        {
          "output_type": "stream",
          "text": [
            "downloading images_01.tar.gz ...\n",
            "downloading images_02.tar.gz ...\n",
            "downloading images_03.tar.gz ...\n",
            "downloading images_04.tar.gz ...\n",
            "downloading images_05.tar.gz ...\n",
            "downloading images_06.tar.gz ...\n",
            "downloading images_07.tar.gz ...\n",
            "downloading images_08.tar.gz ...\n",
            "downloading images_09.tar.gz ...\n"
          ],
          "name": "stdout"
        }
      ]
    },
    {
      "cell_type": "code",
      "metadata": {
        "id": "cj8hI2E_Mp-o",
        "colab_type": "code",
        "colab": {}
      },
      "source": [
        "import tarfile\n",
        "\n",
        "nums = ['01','02','03','04','05','06','07','08','09','10','11','12']\n",
        "file_names = ['images_{}.tar.gz'.format(x) for x in nums]\n",
        "\n",
        "for idx, file in enumerate(file_names):\n",
        "    with tarfile.open(file, 'r:gz') as tar: \n",
        "        print(idx,': Extracting all the files now...') \n",
        "        tar.extractall() \n",
        "        print(idx,': Done!') "
      ],
      "execution_count": 0,
      "outputs": []
    },
    {
      "cell_type": "markdown",
      "metadata": {
        "id": "-QS3ysBUBiPg",
        "colab_type": "text"
      },
      "source": [
        "**Trying with Kaggle API**"
      ]
    },
    {
      "cell_type": "code",
      "metadata": {
        "id": "FCYoJzuAw4mD",
        "colab_type": "code",
        "outputId": "0e8b2f86-b67b-426f-d4da-aaba49d48539",
        "colab": {
          "resources": {
            "http://localhost:8080/nbextensions/google.colab/files.js": {
              "data": "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",
              "ok": true,
              "headers": [
                [
                  "content-type",
                  "application/javascript"
                ]
              ],
              "status": 200,
              "status_text": ""
            }
          },
          "base_uri": "https://localhost:8080/",
          "height": 95
        }
      },
      "source": [
        "!pip install -U -q kaggle\n",
        "!mkdir -p ~/.kaggle\n",
        "from google.colab import files\n",
        "files.upload()"
      ],
      "execution_count": 1,
      "outputs": [
        {
          "output_type": "display_data",
          "data": {
            "text/html": [
              "\n",
              "     <input type=\"file\" id=\"files-bd17336d-eed9-4a2d-898f-9e6018d51e02\" name=\"files[]\" multiple disabled />\n",
              "     <output id=\"result-bd17336d-eed9-4a2d-898f-9e6018d51e02\">\n",
              "      Upload widget is only available when the cell has been executed in the\n",
              "      current browser session. Please rerun this cell to enable.\n",
              "      </output>\n",
              "      <script src=\"/nbextensions/google.colab/files.js\"></script> "
            ],
            "text/plain": [
              "<IPython.core.display.HTML object>"
            ]
          },
          "metadata": {
            "tags": []
          }
        },
        {
          "output_type": "stream",
          "text": [
            "Saving kaggle.json to kaggle.json\n"
          ],
          "name": "stdout"
        },
        {
          "output_type": "execute_result",
          "data": {
            "text/plain": [
              "{'kaggle.json': b'{\"username\":\"saideeprajat\",\"key\":\"ea6c85fdf3acec14c69a3d079a3bb30e\"}'}"
            ]
          },
          "metadata": {
            "tags": []
          },
          "execution_count": 1
        }
      ]
    },
    {
      "cell_type": "code",
      "metadata": {
        "id": "pnXMa21c-7cI",
        "colab_type": "code",
        "outputId": "e7cfce9a-b9a0-46f7-9c27-59d93d5fbdf3",
        "colab": {
          "base_uri": "https://localhost:8080/",
          "height": 93
        }
      },
      "source": [
        "!cp kaggle.json ~/.kaggle/\n",
        "!kaggle datasets download -d nih-chest-xrays/data"
      ],
      "execution_count": 2,
      "outputs": [
        {
          "output_type": "stream",
          "text": [
            "Warning: Your Kaggle API key is readable by other users on this system! To fix this, you can run 'chmod 600 /root/.kaggle/kaggle.json'\n",
            "Downloading data.zip to /content\n",
            "100% 42.0G/42.0G [05:20<00:00, 156MB/s]\n",
            "100% 42.0G/42.0G [05:20<00:00, 141MB/s]\n"
          ],
          "name": "stdout"
        }
      ]
    },
    {
      "cell_type": "code",
      "metadata": {
        "id": "nFNXpL85xNp-",
        "colab_type": "code",
        "outputId": "cc281405-e485-4c67-d364-d64ac9acc975",
        "colab": {
          "base_uri": "https://localhost:8080/",
          "height": 55
        }
      },
      "source": [
        "from zipfile import ZipFile\n",
        "\n",
        "file_name = '/content/data.zip'\n",
        "\n",
        "with ZipFile(file_name, 'r') as zip: \n",
        "    print('Extracting all the files now...') \n",
        "    zip.extractall() \n",
        "    print('Done!') "
      ],
      "execution_count": 3,
      "outputs": [
        {
          "output_type": "stream",
          "text": [
            "Extracting all the files now...\n",
            "Done!\n"
          ],
          "name": "stdout"
        }
      ]
    },
    {
      "cell_type": "code",
      "metadata": {
        "id": "0G3tIagGFDvG",
        "colab_type": "code",
        "outputId": "10df4315-6910-4664-eeca-d172cb37b021",
        "colab": {
          "base_uri": "https://localhost:8080/",
          "height": 473
        }
      },
      "source": [
        "nums = ['01','02','03','04','05','06','07','08','09','10','11','12']\n",
        "file_names = ['images_0{}.zip'.format(x) for x in nums]\n",
        "\n",
        "for idx, file in enumerate(file_names):\n",
        "    with ZipFile(file, 'r') as zip: \n",
        "        print(idx,': Extracting all the files now...') \n",
        "        zip.extractall() \n",
        "        print(idx,': Done!') "
      ],
      "execution_count": 4,
      "outputs": [
        {
          "output_type": "stream",
          "text": [
            "0 : Extracting all the files now...\n",
            "0 : Done!\n",
            "1 : Extracting all the files now...\n",
            "1 : Done!\n",
            "2 : Extracting all the files now...\n",
            "2 : Done!\n",
            "3 : Extracting all the files now...\n",
            "3 : Done!\n",
            "4 : Extracting all the files now...\n",
            "4 : Done!\n",
            "5 : Extracting all the files now...\n",
            "5 : Done!\n",
            "6 : Extracting all the files now...\n",
            "6 : Done!\n",
            "7 : Extracting all the files now...\n",
            "7 : Done!\n",
            "8 : Extracting all the files now...\n",
            "8 : Done!\n",
            "9 : Extracting all the files now...\n",
            "9 : Done!\n",
            "10 : Extracting all the files now...\n",
            "10 : Done!\n",
            "11 : Extracting all the files now...\n",
            "11 : Done!\n"
          ],
          "name": "stdout"
        }
      ]
    },
    {
      "cell_type": "markdown",
      "metadata": {
        "id": "0sevLCQNA3wp",
        "colab_type": "text"
      },
      "source": [
        "# Data Preprocessing"
      ]
    },
    {
      "cell_type": "code",
      "metadata": {
        "id": "0dvRi90ONKo5",
        "colab_type": "code",
        "colab": {}
      },
      "source": [
        "import os, shutil\n",
        "import numpy as np\n",
        "import pandas as pd\n",
        "import matplotlib.pyplot as plt\n",
        "import seaborn as sns; sns.set()\n",
        "\n",
        "from sklearn.model_selection import train_test_split\n",
        "import sklearn.metrics as sm"
      ],
      "execution_count": 0,
      "outputs": []
    },
    {
      "cell_type": "code",
      "metadata": {
        "id": "2Apl3vCS5yUd",
        "colab_type": "code",
        "colab": {}
      },
      "source": [
        "file = open('/content/train_val_list.txt')\n",
        "\n",
        "ims = []\n",
        "\n",
        "for f in file:\n",
        "    ims.append(f.strip('\\n'))\n",
        "    \n",
        "file.close()"
      ],
      "execution_count": 0,
      "outputs": []
    },
    {
      "cell_type": "code",
      "metadata": {
        "id": "yP5Pr23qL1W0",
        "colab_type": "code",
        "colab": {}
      },
      "source": [
        "data = pd.read_csv('/content/Data_Entry_2017.csv')\n",
        "data = data.loc[:,['Image Index','Finding Labels']]"
      ],
      "execution_count": 0,
      "outputs": []
    },
    {
      "cell_type": "code",
      "metadata": {
        "id": "S0QZUh2zG6At",
        "colab_type": "code",
        "colab": {}
      },
      "source": [
        "data = data[data['Image Index'].isin(ims)]"
      ],
      "execution_count": 0,
      "outputs": []
    },
    {
      "cell_type": "code",
      "metadata": {
        "id": "stzrh4U9Mdt1",
        "colab_type": "code",
        "colab": {}
      },
      "source": [
        "data['Finding Labels2'] = data['Finding Labels'].apply(lambda x: x.split('|'))"
      ],
      "execution_count": 0,
      "outputs": []
    },
    {
      "cell_type": "code",
      "metadata": {
        "id": "d2a-LConMpMo",
        "colab_type": "code",
        "colab": {}
      },
      "source": [
        "labels = []\n",
        "\n",
        "for i in data['Finding Labels2']:\n",
        "    labels += i\n",
        "    \n",
        "labels = list(np.unique(labels))"
      ],
      "execution_count": 0,
      "outputs": []
    },
    {
      "cell_type": "code",
      "metadata": {
        "id": "YGXy6ueEMykZ",
        "colab_type": "code",
        "colab": {}
      },
      "source": [
        "for i in labels:\n",
        "    data[i] = data['Finding Labels2'].map(lambda x: 1. if i in x else 0.)"
      ],
      "execution_count": 0,
      "outputs": []
    },
    {
      "cell_type": "code",
      "metadata": {
        "id": "ECirQGMvx9l_",
        "colab_type": "code",
        "colab": {}
      },
      "source": [
        "data.drop('No Finding', inplace=True, axis=1)"
      ],
      "execution_count": 0,
      "outputs": []
    },
    {
      "cell_type": "code",
      "metadata": {
        "id": "QEEHsNkdnwgt",
        "colab_type": "code",
        "colab": {}
      },
      "source": [
        "dis_dict = {}\n",
        "for i in data.columns[3:]:\n",
        "    dis_dict[i] = data[i].value_counts()[1]"
      ],
      "execution_count": 0,
      "outputs": []
    },
    {
      "cell_type": "code",
      "metadata": {
        "id": "-SL5wEPhQjwD",
        "colab_type": "code",
        "outputId": "2a08a626-1972-41ee-a4c0-6c9c1c58dfec",
        "colab": {
          "base_uri": "https://localhost:8080/",
          "height": 283
        }
      },
      "source": [
        "dis_dict"
      ],
      "execution_count": 24,
      "outputs": [
        {
          "output_type": "execute_result",
          "data": {
            "text/plain": [
              "{'Atelectasis': 8280,\n",
              " 'Cardiomegaly': 1707,\n",
              " 'Consolidation': 2852,\n",
              " 'Edema': 1378,\n",
              " 'Effusion': 8659,\n",
              " 'Emphysema': 1423,\n",
              " 'Fibrosis': 1251,\n",
              " 'Hernia': 141,\n",
              " 'Infiltration': 13782,\n",
              " 'Mass': 4034,\n",
              " 'Nodule': 4708,\n",
              " 'Pleural_Thickening': 2242,\n",
              " 'Pneumonia': 876,\n",
              " 'Pneumothorax': 2637}"
            ]
          },
          "metadata": {
            "tags": []
          },
          "execution_count": 24
        }
      ]
    },
    {
      "cell_type": "code",
      "metadata": {
        "id": "OxzeMHH-QLRg",
        "colab_type": "code",
        "outputId": "9272a1c0-60f8-46ba-e790-ed3dcd29ba15",
        "colab": {
          "base_uri": "https://localhost:8080/",
          "height": 501
        }
      },
      "source": [
        "plt.figure(figsize=(12,8))\n",
        "plt.barh(y=list(dis_dict.keys()), \n",
        "         width=list(dis_dict.values()))\n",
        "plt.title('Disease Label Counts')\n",
        "plt.show()"
      ],
      "execution_count": 0,
      "outputs": [
        {
          "output_type": "display_data",
          "data": {
            "image/png": "[encoded data removed]",
            "text/plain": [
              "<Figure size 864x576 with 1 Axes>"
            ]
          },
          "metadata": {
            "tags": []
          }
        }
      ]
    },
    {
      "cell_type": "code",
      "metadata": {
        "id": "53HnrXs8QnxH",
        "colab_type": "code",
        "colab": {}
      },
      "source": [
        "def get_class_weights(total_counts, class_positive_counts):\n",
        "    \n",
        "    def get_single_class_weight(pos_counts, total_counts):\n",
        "        denominator = (total_counts - pos_counts) + pos_counts\n",
        "        return (denominator - pos_counts) / denominator\n",
        "\n",
        "    class_names = list(class_positive_counts.keys())\n",
        "    label_counts = np.array(list(class_positive_counts.values()))\n",
        "    class_weights = {}\n",
        "    \n",
        "    for i, class_name in enumerate(class_names):\n",
        "        class_weights[i] = get_single_class_weight(label_counts[i], total_counts)\n",
        "\n",
        "    return class_weights"
      ],
      "execution_count": 0,
      "outputs": []
    },
    {
      "cell_type": "code",
      "metadata": {
        "id": "et0IS6uG0FJ8",
        "colab_type": "code",
        "colab": {}
      },
      "source": [
        "weights = get_class_weights(len(data), dis_dict)"
      ],
      "execution_count": 0,
      "outputs": []
    },
    {
      "cell_type": "code",
      "metadata": {
        "id": "c6ly4Z3qKcej",
        "colab_type": "code",
        "colab": {}
      },
      "source": [
        "count_weights = pd.DataFrame({'disease' : list(dis_dict.keys()),\n",
        "                             'weights' : [1 - len(data[data[x] == 1])/len(data) for x in list(dis_dict.keys())]})"
      ],
      "execution_count": 0,
      "outputs": []
    },
    {
      "cell_type": "code",
      "metadata": {
        "id": "as_3RyIyseUC",
        "colab_type": "code",
        "colab": {}
      },
      "source": [
        "# n_weights = {}\n",
        "# cnt = 0\n",
        "# for i in count_weights.disease:\n",
        "#     n_weights[cnt] = count_weights['weights'][count_weights['disease'] == i].values[0]\n",
        "#     cnt += 1"
      ],
      "execution_count": 0,
      "outputs": []
    },
    {
      "cell_type": "code",
      "metadata": {
        "id": "b9OqjBaBVfZ9",
        "colab_type": "code",
        "colab": {}
      },
      "source": [
        "notreqlabels = ['Consolidation','Edema','Emphysema',\n",
        "                'Fibrosis','Hernia','Pleural_Thickening']\n",
        "data = data[(data['Consolidation']==0) & (data['Edema']==0) & \n",
        "            (data['Emphysema']==0) & (data['Fibrosis']==0) & \n",
        "            (data['Hernia']==0) & (data['Pleural_Thickening']==0)]\n",
        "data.drop(notreqlabels, inplace=True, axis=1)"
      ],
      "execution_count": 0,
      "outputs": []
    },
    {
      "cell_type": "code",
      "metadata": {
        "id": "KIumB51pv0Xs",
        "colab_type": "code",
        "colab": {}
      },
      "source": [
        "def calculating_class_weights(df, true_cols):\n",
        "    from sklearn.utils.class_weight import compute_class_weight\n",
        "    number_dim = np.shape(df[true_cols])[1]\n",
        "    weights = np.empty([number_dim, 2])\n",
        "    cnt=0\n",
        "    for i in true_cols:\n",
        "        weights[cnt] = compute_class_weight('balanced', [0.,1.], df.loc[:, i].values)\n",
        "        cnt+=1\n",
        "    return weights"
      ],
      "execution_count": 0,
      "outputs": []
    },
    {
      "cell_type": "code",
      "metadata": {
        "id": "fUftKtQ2QEhj",
        "colab_type": "code",
        "colab": {}
      },
      "source": [
        "weights = calculating_class_weights(data, list(dis_dict.keys()))"
      ],
      "execution_count": 0,
      "outputs": []
    },
    {
      "cell_type": "code",
      "metadata": {
        "id": "EFFu1vMORYqZ",
        "colab_type": "code",
        "outputId": "74138ca4-0a2e-449a-9fee-5395f74f4ca0",
        "colab": {
          "base_uri": "https://localhost:8080/",
          "height": 283
        }
      },
      "source": [
        "weights"
      ],
      "execution_count": 0,
      "outputs": [
        {
          "output_type": "execute_result",
          "data": {
            "text/plain": [
              "array([[  0.55291141,   5.22487923],\n",
              "       [  0.51006284,  25.34387815],\n",
              "       [  0.51704274,  15.16900421],\n",
              "       [  0.50809198,  31.39477504],\n",
              "       [  0.55560265,   4.99618894],\n",
              "       [  0.50836065,  30.40196767],\n",
              "       [  0.50733526,  34.58193445],\n",
              "       [  0.50081613, 306.82269504],\n",
              "       [  0.59473207,   3.13902191],\n",
              "       [  0.52445145,  10.72434308],\n",
              "       [  0.52877188,   9.18903993],\n",
              "       [  0.51330059,  19.29616414],\n",
              "       [  0.50511395,  49.38584475],\n",
              "       [  0.51571757,  16.40576413]])"
            ]
          },
          "metadata": {
            "tags": []
          },
          "execution_count": 44
        }
      ]
    },
    {
      "cell_type": "code",
      "metadata": {
        "id": "YkgXJbFzR2xO",
        "colab_type": "code",
        "colab": {}
      },
      "source": [
        "# count_weights = pd.DataFrame({'disease' : list(dis_dict.keys()),\n",
        "#                              'weights' : weights[:,1]})\n",
        "count_weights = pd.DataFrame({'disease' : list(dis_dict.keys()),\n",
        "                             'weights' : [1 - len(data[data[x] == 1])/len(data) for x in list(dis_dict.keys())]})"
      ],
      "execution_count": 0,
      "outputs": []
    },
    {
      "cell_type": "code",
      "metadata": {
        "id": "4qgOkiUYS6h2",
        "colab_type": "code",
        "colab": {}
      },
      "source": [
        "n_weights = {}\n",
        "\n",
        "for idx, i in enumerate(count_weights.disease):\n",
        "    n_weights[idx] = count_weights['weights'][count_weights['disease'] == i].values[0]"
      ],
      "execution_count": 0,
      "outputs": []
    },
    {
      "cell_type": "code",
      "metadata": {
        "id": "jWQlNifePDHy",
        "colab_type": "code",
        "colab": {}
      },
      "source": [
        "sample_weights = data['Finding Labels2'].map(lambda x: sum([count_weights.weights[count_weights.disease == disease].values for disease in x])).values\n",
        "sample_weights /= sample_weights.sum()\n",
        "sample_weights = [i[0] for i in sample_weights]"
      ],
      "execution_count": 0,
      "outputs": []
    },
    {
      "cell_type": "code",
      "metadata": {
        "id": "obqP2xHZSbaq",
        "colab_type": "code",
        "outputId": "3de167b9-9834-435f-cd66-a99719d7db3d",
        "colab": {
          "base_uri": "https://localhost:8080/",
          "height": 283
        }
      },
      "source": [
        "n_weights"
      ],
      "execution_count": 0,
      "outputs": [
        {
          "output_type": "execute_result",
          "data": {
            "text/plain": [
              "{0: 5.22487922705314,\n",
              " 1: 25.343878148799064,\n",
              " 2: 15.169004207573632,\n",
              " 3: 31.39477503628447,\n",
              " 4: 4.996188936366786,\n",
              " 5: 30.401967673928322,\n",
              " 6: 34.58193445243805,\n",
              " 7: 306.822695035461,\n",
              " 8: 3.139021912639675,\n",
              " 9: 10.724343083787804,\n",
              " 10: 9.189039932030587,\n",
              " 11: 19.296164139161462,\n",
              " 12: 49.385844748858446,\n",
              " 13: 16.405764125900646}"
            ]
          },
          "metadata": {
            "tags": []
          },
          "execution_count": 92
        }
      ]
    },
    {
      "cell_type": "code",
      "metadata": {
        "id": "z62OtplNDVp8",
        "colab_type": "code",
        "colab": {}
      },
      "source": [
        "data['weights'] = sample_weights"
      ],
      "execution_count": 0,
      "outputs": []
    },
    {
      "cell_type": "code",
      "metadata": {
        "id": "LoLVtgp4BsBv",
        "colab_type": "code",
        "colab": {}
      },
      "source": [
        ""
      ],
      "execution_count": 0,
      "outputs": []
    },
    {
      "cell_type": "code",
      "metadata": {
        "id": "sg87RF3DHDO_",
        "colab_type": "code",
        "outputId": "7b94a0e0-3903-44ea-a071-e2b1cf791bfb",
        "colab": {
          "base_uri": "https://localhost:8080/",
          "height": 169
        }
      },
      "source": [
        "dis_dict = {}\n",
        "for i in data.columns[3:-1]:\n",
        "    dis_dict[i] = data[i].value_counts()[1]\n",
        "dis_dict"
      ],
      "execution_count": 0,
      "outputs": [
        {
          "output_type": "execute_result",
          "data": {
            "text/plain": [
              "{'Atelectasis': 9187,\n",
              " 'Cardiomegaly': 2314,\n",
              " 'Effusion': 10306,\n",
              " 'Infiltration': 16421,\n",
              " 'Mass': 4414,\n",
              " 'Nodule': 5193,\n",
              " 'Pneumonia': 927,\n",
              " 'Pneumothorax': 4049}"
            ]
          },
          "metadata": {
            "tags": []
          },
          "execution_count": 64
        }
      ]
    },
    {
      "cell_type": "code",
      "metadata": {
        "id": "FhasRCURKFmJ",
        "colab_type": "code",
        "colab": {}
      },
      "source": [
        "data2 = data.sample(50000, weights=data.weights.values)\n",
        "data2.drop('weights', axis=1, inplace=True)\n",
        "data.drop('weights', axis=1, inplace=True)"
      ],
      "execution_count": 0,
      "outputs": []
    },
    {
      "cell_type": "code",
      "metadata": {
        "id": "PLXBA9A0Jkme",
        "colab_type": "code",
        "outputId": "76294672-f3ca-45d6-c832-56e8d0bd208f",
        "colab": {
          "base_uri": "https://localhost:8080/",
          "height": 36
        }
      },
      "source": [
        "len(data)"
      ],
      "execution_count": 0,
      "outputs": [
        {
          "output_type": "execute_result",
          "data": {
            "text/plain": [
              "40000"
            ]
          },
          "metadata": {
            "tags": []
          },
          "execution_count": 132
        }
      ]
    },
    {
      "cell_type": "code",
      "metadata": {
        "id": "cCRMdtJFQuXQ",
        "colab_type": "code",
        "colab": {}
      },
      "source": [
        "dis_dict = {}\n",
        "for i in data2.columns[3:]:\n",
        "    dis_dict[i] = data2[i].value_counts()[1]"
      ],
      "execution_count": 0,
      "outputs": []
    },
    {
      "cell_type": "code",
      "metadata": {
        "id": "jpNBIFqtRIDT",
        "colab_type": "code",
        "outputId": "318ba9ce-ce00-4ab7-af58-4e9ecf9f2e03",
        "colab": {
          "base_uri": "https://localhost:8080/",
          "height": 501
        }
      },
      "source": [
        "plt.figure(figsize=(12,8))\n",
        "plt.barh(y=list(dis_dict.keys()), \n",
        "         width=list(dis_dict.values()))\n",
        "plt.title('Disease Label Counts')\n",
        "plt.show()"
      ],
      "execution_count": 0,
      "outputs": [
        {
          "output_type": "display_data",
          "data": {
            "image/png": "[encoded data removed]",
            "text/plain": [
              "<Figure size 864x576 with 1 Axes>"
            ]
          },
          "metadata": {
            "tags": []
          }
        }
      ]
    },
    {
      "cell_type": "code",
      "metadata": {
        "id": "EaRJB2ugEY-z",
        "colab_type": "code",
        "outputId": "33fa8fc7-e11c-458f-e6cf-4a5ec2e82fe2",
        "colab": {
          "base_uri": "https://localhost:8080/",
          "height": 169
        }
      },
      "source": [
        "dis_dict"
      ],
      "execution_count": 0,
      "outputs": [
        {
          "output_type": "execute_result",
          "data": {
            "text/plain": [
              "{'Atelectasis': 8576,\n",
              " 'Cardiomegaly': 2314,\n",
              " 'Effusion': 9553,\n",
              " 'Infiltration': 13390,\n",
              " 'Mass': 4387,\n",
              " 'Nodule': 5114,\n",
              " 'Pneumonia': 927,\n",
              " 'Pneumothorax': 4023}"
            ]
          },
          "metadata": {
            "tags": []
          },
          "execution_count": 68
        }
      ]
    },
    {
      "cell_type": "code",
      "metadata": {
        "id": "6ZzEp9ACIn90",
        "colab_type": "code",
        "colab": {}
      },
      "source": [
        "dis_dict"
      ],
      "execution_count": 0,
      "outputs": []
    },
    {
      "cell_type": "code",
      "metadata": {
        "id": "xZeSb0sVHxEU",
        "colab_type": "code",
        "colab": {}
      },
      "source": [
        "# len(data[data.Pneumonia == 1])\n",
        "disease_list = data[data['Pneumonia'] == 1].copy()\n",
        "data2 = data2[data2['Pneumonia'] == 0]\n",
        "data2 = pd.concat([disease_list,data2], axis=0, sort=False)"
      ],
      "execution_count": 0,
      "outputs": []
    },
    {
      "cell_type": "code",
      "metadata": {
        "id": "FIVe12poO2Ey",
        "colab_type": "code",
        "colab": {}
      },
      "source": [
        "data2 = data.copy()"
      ],
      "execution_count": 0,
      "outputs": []
    },
    {
      "cell_type": "code",
      "metadata": {
        "id": "-08o2CtwMuKd",
        "colab_type": "code",
        "outputId": "ffbfa60a-277e-4f7c-9865-c40e7691a499",
        "colab": {
          "base_uri": "https://localhost:8080/",
          "height": 275
        }
      },
      "source": [
        "data2.head()"
      ],
      "execution_count": 0,
      "outputs": [
        {
          "output_type": "execute_result",
          "data": {
            "text/html": [
              "<div>\n",
              "<style scoped>\n",
              "    .dataframe tbody tr th:only-of-type {\n",
              "        vertical-align: middle;\n",
              "    }\n",
              "\n",
              "    .dataframe tbody tr th {\n",
              "        vertical-align: top;\n",
              "    }\n",
              "\n",
              "    .dataframe thead th {\n",
              "        text-align: right;\n",
              "    }\n",
              "</style>\n",
              "<table border=\"1\" class=\"dataframe\">\n",
              "  <thead>\n",
              "    <tr style=\"text-align: right;\">\n",
              "      <th></th>\n",
              "      <th>Image Index</th>\n",
              "      <th>Finding Labels</th>\n",
              "      <th>Finding Labels2</th>\n",
              "      <th>Atelectasis</th>\n",
              "      <th>Cardiomegaly</th>\n",
              "      <th>Consolidation</th>\n",
              "      <th>Edema</th>\n",
              "      <th>Effusion</th>\n",
              "      <th>Emphysema</th>\n",
              "      <th>Fibrosis</th>\n",
              "      <th>Hernia</th>\n",
              "      <th>Infiltration</th>\n",
              "      <th>Mass</th>\n",
              "      <th>Nodule</th>\n",
              "      <th>Pleural_Thickening</th>\n",
              "      <th>Pneumonia</th>\n",
              "      <th>Pneumothorax</th>\n",
              "    </tr>\n",
              "  </thead>\n",
              "  <tbody>\n",
              "    <tr>\n",
              "      <th>0</th>\n",
              "      <td>00000001_000.png</td>\n",
              "      <td>Cardiomegaly</td>\n",
              "      <td>[Cardiomegaly]</td>\n",
              "      <td>0.0</td>\n",
              "      <td>1.0</td>\n",
              "      <td>0.0</td>\n",
              "      <td>0.0</td>\n",
              "      <td>0.0</td>\n",
              "      <td>0.0</td>\n",
              "      <td>0.0</td>\n",
              "      <td>0.0</td>\n",
              "      <td>0.0</td>\n",
              "      <td>0.0</td>\n",
              "      <td>0.0</td>\n",
              "      <td>0.0</td>\n",
              "      <td>0.0</td>\n",
              "      <td>0.0</td>\n",
              "    </tr>\n",
              "    <tr>\n",
              "      <th>1</th>\n",
              "      <td>00000001_001.png</td>\n",
              "      <td>Cardiomegaly|Emphysema</td>\n",
              "      <td>[Cardiomegaly, Emphysema]</td>\n",
              "      <td>0.0</td>\n",
              "      <td>1.0</td>\n",
              "      <td>0.0</td>\n",
              "      <td>0.0</td>\n",
              "      <td>0.0</td>\n",
              "      <td>1.0</td>\n",
              "      <td>0.0</td>\n",
              "      <td>0.0</td>\n",
              "      <td>0.0</td>\n",
              "      <td>0.0</td>\n",
              "      <td>0.0</td>\n",
              "      <td>0.0</td>\n",
              "      <td>0.0</td>\n",
              "      <td>0.0</td>\n",
              "    </tr>\n",
              "    <tr>\n",
              "      <th>2</th>\n",
              "      <td>00000001_002.png</td>\n",
              "      <td>Cardiomegaly|Effusion</td>\n",
              "      <td>[Cardiomegaly, Effusion]</td>\n",
              "      <td>0.0</td>\n",
              "      <td>1.0</td>\n",
              "      <td>0.0</td>\n",
              "      <td>0.0</td>\n",
              "      <td>1.0</td>\n",
              "      <td>0.0</td>\n",
              "      <td>0.0</td>\n",
              "      <td>0.0</td>\n",
              "      <td>0.0</td>\n",
              "      <td>0.0</td>\n",
              "      <td>0.0</td>\n",
              "      <td>0.0</td>\n",
              "      <td>0.0</td>\n",
              "      <td>0.0</td>\n",
              "    </tr>\n",
              "    <tr>\n",
              "      <th>3</th>\n",
              "      <td>00000002_000.png</td>\n",
              "      <td>No Finding</td>\n",
              "      <td>[No Finding]</td>\n",
              "      <td>0.0</td>\n",
              "      <td>0.0</td>\n",
              "      <td>0.0</td>\n",
              "      <td>0.0</td>\n",
              "      <td>0.0</td>\n",
              "      <td>0.0</td>\n",
              "      <td>0.0</td>\n",
              "      <td>0.0</td>\n",
              "      <td>0.0</td>\n",
              "      <td>0.0</td>\n",
              "      <td>0.0</td>\n",
              "      <td>0.0</td>\n",
              "      <td>0.0</td>\n",
              "      <td>0.0</td>\n",
              "    </tr>\n",
              "    <tr>\n",
              "      <th>12</th>\n",
              "      <td>00000004_000.png</td>\n",
              "      <td>Mass|Nodule</td>\n",
              "      <td>[Mass, Nodule]</td>\n",
              "      <td>0.0</td>\n",
              "      <td>0.0</td>\n",
              "      <td>0.0</td>\n",
              "      <td>0.0</td>\n",
              "      <td>0.0</td>\n",
              "      <td>0.0</td>\n",
              "      <td>0.0</td>\n",
              "      <td>0.0</td>\n",
              "      <td>0.0</td>\n",
              "      <td>1.0</td>\n",
              "      <td>1.0</td>\n",
              "      <td>0.0</td>\n",
              "      <td>0.0</td>\n",
              "      <td>0.0</td>\n",
              "    </tr>\n",
              "  </tbody>\n",
              "</table>\n",
              "</div>"
            ],
            "text/plain": [
              "         Image Index          Finding Labels            Finding Labels2  \\\n",
              "0   00000001_000.png            Cardiomegaly             [Cardiomegaly]   \n",
              "1   00000001_001.png  Cardiomegaly|Emphysema  [Cardiomegaly, Emphysema]   \n",
              "2   00000001_002.png   Cardiomegaly|Effusion   [Cardiomegaly, Effusion]   \n",
              "3   00000002_000.png              No Finding               [No Finding]   \n",
              "12  00000004_000.png             Mass|Nodule             [Mass, Nodule]   \n",
              "\n",
              "    Atelectasis  Cardiomegaly  Consolidation  Edema  Effusion  Emphysema  \\\n",
              "0           0.0           1.0            0.0    0.0       0.0        0.0   \n",
              "1           0.0           1.0            0.0    0.0       0.0        1.0   \n",
              "2           0.0           1.0            0.0    0.0       1.0        0.0   \n",
              "3           0.0           0.0            0.0    0.0       0.0        0.0   \n",
              "12          0.0           0.0            0.0    0.0       0.0        0.0   \n",
              "\n",
              "    Fibrosis  Hernia  Infiltration  Mass  Nodule  Pleural_Thickening  \\\n",
              "0        0.0     0.0           0.0   0.0     0.0                 0.0   \n",
              "1        0.0     0.0           0.0   0.0     0.0                 0.0   \n",
              "2        0.0     0.0           0.0   0.0     0.0                 0.0   \n",
              "3        0.0     0.0           0.0   0.0     0.0                 0.0   \n",
              "12       0.0     0.0           0.0   1.0     1.0                 0.0   \n",
              "\n",
              "    Pneumonia  Pneumothorax  \n",
              "0         0.0           0.0  \n",
              "1         0.0           0.0  \n",
              "2         0.0           0.0  \n",
              "3         0.0           0.0  \n",
              "12        0.0           0.0  "
            ]
          },
          "metadata": {
            "tags": []
          },
          "execution_count": 49
        }
      ]
    },
    {
      "cell_type": "code",
      "metadata": {
        "id": "bbWOBUE38JEG",
        "colab_type": "code",
        "colab": {}
      },
      "source": [
        ""
      ],
      "execution_count": 0,
      "outputs": []
    },
    {
      "cell_type": "code",
      "metadata": {
        "id": "QaY0zPo1Rdsj",
        "colab_type": "code",
        "colab": {}
      },
      "source": [
        "# df_train.to_csv(path_or_buf='/content/df_train.csv', sep=',', index=False)\n",
        "# df_val.to_csv(path_or_buf='/content/df_val.csv', sep=',', index=False)"
      ],
      "execution_count": 0,
      "outputs": []
    },
    {
      "cell_type": "code",
      "metadata": {
        "id": "Mpj_EAFYxX3o",
        "colab_type": "code",
        "colab": {}
      },
      "source": [
        "df_dir = '/content/'\n",
        "img_dir = '/content/images/'"
      ],
      "execution_count": 0,
      "outputs": []
    },
    {
      "cell_type": "code",
      "metadata": {
        "id": "M5LfpS8rOLSa",
        "colab_type": "code",
        "colab": {}
      },
      "source": [
        "# df_train = pd.read_csv(df_dir + 'df_train.csv')\n",
        "# df_val = pd.read_csv(df_dir + 'df_val.csv')"
      ],
      "execution_count": 0,
      "outputs": []
    },
    {
      "cell_type": "code",
      "metadata": {
        "id": "L7O4ZXFAUZBQ",
        "colab_type": "code",
        "colab": {}
      },
      "source": [
        "# cats_list = list(df_train.iloc[:,3:].columns)\n",
        "cats_list = list(data2.iloc[:,3:].columns)"
      ],
      "execution_count": 0,
      "outputs": []
    },
    {
      "cell_type": "code",
      "metadata": {
        "id": "XeahjvdBOUen",
        "colab_type": "code",
        "colab": {}
      },
      "source": [
        "# df_train['path'] = [img_dir+x for x in df_train['Image Index']]\n",
        "# df_val['path'] = [img_dir+x for x in df_val['Image Index']]\n",
        "data2['path'] = [img_dir+x for x in data2['Image Index']]"
      ],
      "execution_count": 0,
      "outputs": []
    },
    {
      "cell_type": "code",
      "metadata": {
        "id": "KY6QDj3vwTQC",
        "colab_type": "code",
        "colab": {}
      },
      "source": [
        "def calculating_class_weights(df, true_cols):\n",
        "    from sklearn.utils.class_weight import compute_class_weight\n",
        "    number_dim = np.shape(df[true_cols])[1]\n",
        "    weights = np.empty([number_dim, 2])\n",
        "    cnt=0\n",
        "    for i in true_cols:\n",
        "        weights[cnt] = compute_class_weight('balanced', [0.,1.], df.loc[:, i].values)\n",
        "        cnt+=1\n",
        "    return weights"
      ],
      "execution_count": 0,
      "outputs": []
    },
    {
      "cell_type": "code",
      "metadata": {
        "id": "AHVHID6iwbeP",
        "colab_type": "code",
        "colab": {}
      },
      "source": [
        "weights = calculating_class_weights(data2, cats_list)"
      ],
      "execution_count": 0,
      "outputs": []
    },
    {
      "cell_type": "code",
      "metadata": {
        "id": "ihhRcB7-PyYM",
        "colab_type": "code",
        "colab": {}
      },
      "source": [
        "data2.head()"
      ],
      "execution_count": 0,
      "outputs": []
    },
    {
      "cell_type": "code",
      "metadata": {
        "id": "YXx0GHNbNfQ6",
        "colab_type": "code",
        "colab": {}
      },
      "source": [
        "df_train, df_val = train_test_split(data2, test_size = 0.1, random_state = 0)"
      ],
      "execution_count": 0,
      "outputs": []
    },
    {
      "cell_type": "code",
      "metadata": {
        "id": "2KazX55yPZtx",
        "colab_type": "code",
        "outputId": "fc0d6ce5-d69e-41da-f3fc-f0449f931f09",
        "colab": {
          "base_uri": "https://localhost:8080/",
          "height": 302
        }
      },
      "source": [
        "dis_dict = {}\n",
        "for i in df_val.columns[3:]:\n",
        "    dis_dict[i] = df_val[i].value_counts()[1]\n",
        "    \n",
        "dis_dict"
      ],
      "execution_count": 0,
      "outputs": [
        {
          "output_type": "execute_result",
          "data": {
            "text/plain": [
              "{'Atelectasis': 614,\n",
              " 'Cardiomegaly': 131,\n",
              " 'Consolidation': 220,\n",
              " 'Edema': 115,\n",
              " 'Effusion': 667,\n",
              " 'Emphysema': 120,\n",
              " 'Fibrosis': 103,\n",
              " 'Hernia': 6,\n",
              " 'Infiltration': 1124,\n",
              " 'Mass': 349,\n",
              " 'Nodule': 403,\n",
              " 'Pleural_Thickening': 209,\n",
              " 'Pneumonia': 68,\n",
              " 'Pneumothorax': 200,\n",
              " 'path': 1}"
            ]
          },
          "metadata": {
            "tags": []
          },
          "execution_count": 77
        }
      ]
    },
    {
      "cell_type": "code",
      "metadata": {
        "id": "JJmKCdMSJ93Y",
        "colab_type": "code",
        "outputId": "de0d3a2f-1898-46f2-cbd5-1620a757d693",
        "colab": {
          "base_uri": "https://localhost:8080/",
          "height": 36
        }
      },
      "source": [
        "len(df_val)"
      ],
      "execution_count": 39,
      "outputs": [
        {
          "output_type": "execute_result",
          "data": {
            "text/plain": [
              "8653"
            ]
          },
          "metadata": {
            "tags": []
          },
          "execution_count": 39
        }
      ]
    },
    {
      "cell_type": "code",
      "metadata": {
        "id": "3PP-H49K5M6t",
        "colab_type": "code",
        "outputId": "b805ef1f-5e44-4d97-a8be-6b7bb6a59cf2",
        "colab": {
          "base_uri": "https://localhost:8080/",
          "height": 36
        }
      },
      "source": [
        "from keras.preprocessing import image\n",
        "from keras import models\n",
        "from keras import layers\n",
        "from keras import optimizers\n",
        "from keras import backend as K"
      ],
      "execution_count": 38,
      "outputs": [
        {
          "output_type": "stream",
          "text": [
            "Using TensorFlow backend.\n"
          ],
          "name": "stderr"
        }
      ]
    },
    {
      "cell_type": "code",
      "metadata": {
        "id": "LSjHILaVDosY",
        "colab_type": "code",
        "colab": {}
      },
      "source": [
        "height = 224\n",
        "width = 224"
      ],
      "execution_count": 0,
      "outputs": []
    },
    {
      "cell_type": "code",
      "metadata": {
        "id": "__mmqIFogUiR",
        "colab_type": "code",
        "colab": {}
      },
      "source": [
        "df_train.head()"
      ],
      "execution_count": 0,
      "outputs": []
    },
    {
      "cell_type": "code",
      "metadata": {
        "id": "qsY7FofxWpLA",
        "colab_type": "code",
        "colab": {}
      },
      "source": [
        "# df_train['disease_vec'] = df_train.apply(lambda x: [x[cats_list].values], 1).map(lambda x: x[0])\n",
        "# df_val['disease_vec'] = df_val.apply(lambda x: [x[cats_list].values], 1).map(lambda x: x[0])"
      ],
      "execution_count": 0,
      "outputs": []
    },
    {
      "cell_type": "code",
      "metadata": {
        "id": "aZVbeMBYD0gn",
        "colab_type": "code",
        "colab": {}
      },
      "source": [
        "img_gen = image.ImageDataGenerator(#rescale=1./255.,\n",
        "                                   horizontal_flip=True,\n",
        "                                   vertical_flip=False,\n",
        "#                                    height_shift_range= 0.05,\n",
        "#                                    width_shift_range=0.1,\n",
        "#                                    rotation_range=5,\n",
        "#                                    shear_range=0.1,\n",
        "#                                    fill_mode='reflect',\n",
        "#                                    zoom_range=0.15\n",
        "                                  )\n",
        "# img_gen = image.ImageDataGenerator(rescale=1./255)"
      ],
      "execution_count": 0,
      "outputs": []
    },
    {
      "cell_type": "code",
      "metadata": {
        "id": "0fKU39lqLX4j",
        "colab_type": "code",
        "outputId": "78ec2466-0e59-4bce-b062-a80d69533000",
        "colab": {
          "base_uri": "https://localhost:8080/",
          "height": 55
        }
      },
      "source": [
        "train_gen = img_gen.flow_from_dataframe(dataframe=df_train, \n",
        "                                        directory=None, \n",
        "                                        x_col='path',\n",
        "                                        y_col=cats_list,\n",
        "                                        target_size=(height,width),\n",
        "                                        color_mode='rgb',\n",
        "                                        class_mode='other',\n",
        "                                        #classes=cats_list,\n",
        "                                        batch_size=32, seed=0)\n",
        "\n",
        "val_gen = img_gen.flow_from_dataframe(dataframe=df_val, \n",
        "                                        directory=None, \n",
        "                                        x_col='path',\n",
        "                                        y_col=cats_list,\n",
        "                                        target_size=(height,width),\n",
        "                                        color_mode='rgb',\n",
        "                                        class_mode='other',\n",
        "                                        #classes=cats_list,\n",
        "                                        batch_size=2048, seed=0)"
      ],
      "execution_count": 42,
      "outputs": [
        {
          "output_type": "stream",
          "text": [
            "Found 77871 images.\n",
            "Found 8653 images.\n"
          ],
          "name": "stdout"
        }
      ]
    },
    {
      "cell_type": "code",
      "metadata": {
        "id": "6Y-IkigOYAto",
        "colab_type": "code",
        "colab": {}
      },
      "source": [
        ""
      ],
      "execution_count": 0,
      "outputs": []
    },
    {
      "cell_type": "code",
      "metadata": {
        "id": "rN4GuBOzC5C8",
        "colab_type": "code",
        "colab": {}
      },
      "source": [
        "test_x, test_y = next(val_gen)"
      ],
      "execution_count": 0,
      "outputs": []
    },
    {
      "cell_type": "code",
      "metadata": {
        "id": "RykxGY3lDPbV",
        "colab_type": "code",
        "colab": {}
      },
      "source": [
        "test_y"
      ],
      "execution_count": 0,
      "outputs": []
    },
    {
      "cell_type": "markdown",
      "metadata": {
        "id": "QJIk9_8SBIlW",
        "colab_type": "text"
      },
      "source": [
        "# Model Building for Multi-Label Classification"
      ]
    },
    {
      "cell_type": "code",
      "metadata": {
        "id": "51fgIkuK1h3B",
        "colab_type": "code",
        "colab": {}
      },
      "source": [
        "from keras.applications import DenseNet121\n",
        "\n",
        "conv_base = DenseNet121(weights='imagenet',\n",
        "                  include_top=False,\n",
        "                  input_shape=(height, width, 3))"
      ],
      "execution_count": 0,
      "outputs": []
    },
    {
      "cell_type": "code",
      "metadata": {
        "id": "sFU0fwdH6_pU",
        "colab_type": "code",
        "colab": {}
      },
      "source": [
        "from keras.callbacks import ModelCheckpoint, LearningRateScheduler, EarlyStopping, ReduceLROnPlateau\n",
        "weight_path=\"xray_best_weights.hdf5\"\n",
        "\n",
        "checkpoint = ModelCheckpoint(weight_path, monitor='val_loss', verbose=1, \n",
        "                             save_best_only=True, mode='min', save_weights_only = True)\n",
        "\n",
        "early_stop = EarlyStopping(monitor=\"val_loss\", \n",
        "                      mode=\"min\", \n",
        "                      patience=20)"
      ],
      "execution_count": 0,
      "outputs": []
    },
    {
      "cell_type": "code",
      "metadata": {
        "id": "yIJ7hesdhaFV",
        "colab_type": "code",
        "colab": {}
      },
      "source": [
        "conv_base.summary()"
      ],
      "execution_count": 0,
      "outputs": []
    },
    {
      "cell_type": "code",
      "metadata": {
        "id": "nSZqhpta0iNF",
        "colab_type": "code",
        "colab": {}
      },
      "source": [
        "# model = models.Sequential()\n",
        "# model.add(conv_base)\n",
        "# model.add(layers.Flatten())\n",
        "# model.add(layers.Dense(512, activation='relu'))\n",
        "# model.add(layers.Dropout(0.5))\n",
        "# model.add(layers.Dense(9, activation='sigmoid'))"
      ],
      "execution_count": 0,
      "outputs": []
    },
    {
      "cell_type": "code",
      "metadata": {
        "id": "K4QInCB8LOAE",
        "colab_type": "code",
        "colab": {}
      },
      "source": [
        "model = models.Sequential()\n",
        "model.add(conv_base)\n",
        "model.add(layers.GlobalAveragePooling2D())\n",
        "model.add(layers.Dropout(0.5))\n",
        "# model.add(layers.Dense(128))\n",
        "# model.add(layers.Dropout(0.5))\n",
        "model.add(layers.Dense(14, activation='sigmoid'))"
      ],
      "execution_count": 0,
      "outputs": []
    },
    {
      "cell_type": "code",
      "metadata": {
        "id": "5djutBTl7NIN",
        "colab_type": "code",
        "colab": {}
      },
      "source": [
        "model.summary()"
      ],
      "execution_count": 0,
      "outputs": []
    },
    {
      "cell_type": "code",
      "metadata": {
        "id": "gilTYxR1S87t",
        "colab_type": "code",
        "colab": {}
      },
      "source": [
        "def get_weighted_loss(weights):\n",
        "    def weighted_loss(y_true, y_pred):\n",
        "        from keras import backend as K\n",
        "        return K.mean((weights[:,0]**(1-y_true))*(weights[:,1]**(y_true))*K.binary_crossentropy(y_true, y_pred), axis=-1)\n",
        "    return weighted_loss"
      ],
      "execution_count": 0,
      "outputs": []
    },
    {
      "cell_type": "code",
      "metadata": {
        "id": "GkdsT5tJzgYd",
        "colab_type": "code",
        "colab": {}
      },
      "source": [
        "def dice_coef(y_true, y_pred, smooth=1):\n",
        "    \"\"\"\n",
        "    Dice = (2*|X & Y|)/ (|X|+ |Y|)\n",
        "         =  2*sum(|A*B|)/(sum(A^2)+sum(B^2))\n",
        "    ref: https://arxiv.org/pdf/1606.04797v1.pdf\n",
        "    \"\"\"\n",
        "    intersection = K.sum(K.abs(y_true * y_pred), axis=-1)\n",
        "    return (2. * intersection + smooth) / (K.sum(K.square(y_true),-1) + K.sum(K.square(y_pred),-1) + smooth)\n",
        "\n",
        "def dice_coef_loss(y_true, y_pred):\n",
        "    return 1-dice_coef(y_true, y_pred)"
      ],
      "execution_count": 0,
      "outputs": []
    },
    {
      "cell_type": "code",
      "metadata": {
        "id": "XGrvvVWG7plY",
        "colab_type": "code",
        "colab": {}
      },
      "source": [
        "def jaccard_distance_loss(y_true, y_pred, smooth=100):\n",
        "    \"\"\"\n",
        "    Jaccard = (|X & Y|)/ (|X|+ |Y| - |X & Y|)\n",
        "            = sum(|A*B|)/(sum(|A|)+sum(|B|)-sum(|A*B|))\n",
        "    \n",
        "    The jaccard distance loss is usefull for unbalanced datasets. This has been\n",
        "    shifted so it converges on 0 and is smoothed to avoid exploding or disapearing\n",
        "    gradient.\n",
        "    \n",
        "    Ref: https://en.wikipedia.org/wiki/Jaccard_index\n",
        "    \n",
        "    @url: https://gist.github.com/wassname/f1452b748efcbeb4cb9b1d059dce6f96\n",
        "    @author: wassname\n",
        "    \"\"\"\n",
        "    intersection = K.sum(K.abs(y_true * y_pred), axis=-1)\n",
        "    sum_ = K.sum(K.abs(y_true) + K.abs(y_pred), axis=-1)\n",
        "    jac = (intersection + smooth) / (sum_ - intersection + smooth)\n",
        "    return (1 - jac) * smooth"
      ],
      "execution_count": 0,
      "outputs": []
    },
    {
      "cell_type": "code",
      "metadata": {
        "id": "F6fZwHsu2OrA",
        "colab_type": "code",
        "colab": {}
      },
      "source": [
        "model.compile(optimizer=optimizers.Adam(lr=0.001, decay=1e-8),\n",
        "              loss='binary_crossentropy',\n",
        "              metrics=['binary_accuracy'])"
      ],
      "execution_count": 0,
      "outputs": []
    },
    {
      "cell_type": "code",
      "metadata": {
        "id": "hqxNszB62YwK",
        "colab_type": "code",
        "outputId": "894b5427-e521-426d-be4a-c648e4124d25",
        "colab": {
          "base_uri": "https://localhost:8080/",
          "height": 7617
        }
      },
      "source": [
        "history = model.fit_generator(train_gen, \n",
        "                              steps_per_epoch=100, \n",
        "                              validation_data=(test_x, test_y),\n",
        "                              epochs=100,\n",
        "                              callbacks=[checkpoint],\n",
        "                              class_weight=weights)"
      ],
      "execution_count": 63,
      "outputs": [
        {
          "output_type": "stream",
          "text": [
            "Epoch 1/100\n",
            "100/100 [==============================] - 87s 875ms/step - loss: 0.1411 - binary_accuracy: 0.9555 - val_loss: 0.1676 - val_binary_accuracy: 0.9532\n",
            "\n",
            "Epoch 00001: val_loss did not improve from 0.16053\n",
            "Epoch 2/100\n",
            "100/100 [==============================] - 81s 805ms/step - loss: 0.1331 - binary_accuracy: 0.9578 - val_loss: 0.1714 - val_binary_accuracy: 0.9533\n",
            "\n",
            "Epoch 00002: val_loss did not improve from 0.16053\n",
            "Epoch 3/100\n",
            "100/100 [==============================] - 80s 799ms/step - loss: 0.1427 - binary_accuracy: 0.9542 - val_loss: 0.1729 - val_binary_accuracy: 0.9531\n",
            "\n",
            "Epoch 00003: val_loss did not improve from 0.16053\n",
            "Epoch 4/100\n",
            "100/100 [==============================] - 80s 804ms/step - loss: 0.1480 - binary_accuracy: 0.9528 - val_loss: 0.1813 - val_binary_accuracy: 0.9525\n",
            "\n",
            "Epoch 00004: val_loss did not improve from 0.16053\n",
            "Epoch 5/100\n",
            "100/100 [==============================] - 82s 821ms/step - loss: 0.1342 - binary_accuracy: 0.9580 - val_loss: 0.1855 - val_binary_accuracy: 0.9465\n",
            "\n",
            "Epoch 00005: val_loss did not improve from 0.16053\n",
            "Epoch 6/100\n",
            "100/100 [==============================] - 81s 805ms/step - loss: 0.1370 - binary_accuracy: 0.9576 - val_loss: 0.1656 - val_binary_accuracy: 0.9533\n",
            "\n",
            "Epoch 00006: val_loss did not improve from 0.16053\n",
            "Epoch 7/100\n",
            "100/100 [==============================] - 80s 801ms/step - loss: 0.1429 - binary_accuracy: 0.9542 - val_loss: 0.1669 - val_binary_accuracy: 0.9532\n",
            "\n",
            "Epoch 00007: val_loss did not improve from 0.16053\n",
            "Epoch 8/100\n",
            "100/100 [==============================] - 81s 808ms/step - loss: 0.1388 - binary_accuracy: 0.9569 - val_loss: 0.1952 - val_binary_accuracy: 0.9358\n",
            "\n",
            "Epoch 00008: val_loss did not improve from 0.16053\n",
            "Epoch 9/100\n",
            "100/100 [==============================] - 82s 821ms/step - loss: 0.1402 - binary_accuracy: 0.9559 - val_loss: 0.2021 - val_binary_accuracy: 0.9492\n",
            "\n",
            "Epoch 00009: val_loss did not improve from 0.16053\n",
            "Epoch 10/100\n",
            "100/100 [==============================] - 81s 806ms/step - loss: 0.1415 - binary_accuracy: 0.9547 - val_loss: 0.1582 - val_binary_accuracy: 0.9526\n",
            "\n",
            "Epoch 00010: val_loss improved from 0.16053 to 0.15821, saving model to xray_best_weights.hdf5\n",
            "Epoch 11/100\n",
            "100/100 [==============================] - 80s 803ms/step - loss: 0.1407 - binary_accuracy: 0.9542 - val_loss: 0.1688 - val_binary_accuracy: 0.9486\n",
            "\n",
            "Epoch 00011: val_loss did not improve from 0.15821\n",
            "Epoch 12/100\n",
            "100/100 [==============================] - 81s 811ms/step - loss: 0.1400 - binary_accuracy: 0.9562 - val_loss: 0.1733 - val_binary_accuracy: 0.9532\n",
            "\n",
            "Epoch 00012: val_loss did not improve from 0.15821\n",
            "Epoch 13/100\n",
            "100/100 [==============================] - 82s 820ms/step - loss: 0.1417 - binary_accuracy: 0.9546 - val_loss: 0.1565 - val_binary_accuracy: 0.9529\n",
            "\n",
            "Epoch 00013: val_loss improved from 0.15821 to 0.15650, saving model to xray_best_weights.hdf5\n",
            "Epoch 14/100\n",
            "100/100 [==============================] - 80s 805ms/step - loss: 0.1341 - binary_accuracy: 0.9567 - val_loss: 0.1595 - val_binary_accuracy: 0.9534\n",
            "\n",
            "Epoch 00014: val_loss did not improve from 0.15650\n",
            "Epoch 15/100\n",
            "100/100 [==============================] - 81s 810ms/step - loss: 0.1337 - binary_accuracy: 0.9571 - val_loss: 0.2314 - val_binary_accuracy: 0.9389\n",
            "\n",
            "Epoch 00015: val_loss did not improve from 0.15650\n",
            "Epoch 16/100\n",
            "100/100 [==============================] - 81s 814ms/step - loss: 0.1406 - binary_accuracy: 0.9538 - val_loss: 0.1616 - val_binary_accuracy: 0.9534\n",
            "\n",
            "Epoch 00016: val_loss did not improve from 0.15650\n",
            "Epoch 17/100\n",
            "100/100 [==============================] - 81s 809ms/step - loss: 0.1384 - binary_accuracy: 0.9550 - val_loss: 0.1823 - val_binary_accuracy: 0.9532\n",
            "\n",
            "Epoch 00017: val_loss did not improve from 0.15650\n",
            "Epoch 18/100\n",
            "100/100 [==============================] - 81s 809ms/step - loss: 0.1418 - binary_accuracy: 0.9543 - val_loss: 0.1604 - val_binary_accuracy: 0.9533\n",
            "\n",
            "Epoch 00018: val_loss did not improve from 0.15650\n",
            "Epoch 19/100\n",
            "100/100 [==============================] - 81s 809ms/step - loss: 0.1354 - binary_accuracy: 0.9561 - val_loss: 0.1662 - val_binary_accuracy: 0.9497\n",
            "\n",
            "Epoch 00019: val_loss did not improve from 0.15650\n",
            "Epoch 20/100\n",
            "100/100 [==============================] - 83s 827ms/step - loss: 0.1353 - binary_accuracy: 0.9572 - val_loss: 0.1681 - val_binary_accuracy: 0.9535\n",
            "\n",
            "Epoch 00020: val_loss did not improve from 0.15650\n",
            "Epoch 21/100\n",
            "100/100 [==============================] - 81s 806ms/step - loss: 0.1390 - binary_accuracy: 0.9551 - val_loss: 0.1638 - val_binary_accuracy: 0.9519\n",
            "\n",
            "Epoch 00021: val_loss did not improve from 0.15650\n",
            "Epoch 22/100\n",
            "100/100 [==============================] - 81s 808ms/step - loss: 0.1395 - binary_accuracy: 0.9534 - val_loss: 0.1620 - val_binary_accuracy: 0.9533\n",
            "\n",
            "Epoch 00022: val_loss did not improve from 0.15650\n",
            "Epoch 23/100\n",
            "100/100 [==============================] - 80s 799ms/step - loss: 0.1365 - binary_accuracy: 0.9565 - val_loss: 0.1796 - val_binary_accuracy: 0.9525\n",
            "\n",
            "Epoch 00023: val_loss did not improve from 0.15650\n",
            "Epoch 24/100\n",
            "100/100 [==============================] - 82s 821ms/step - loss: 0.1386 - binary_accuracy: 0.9542 - val_loss: 0.1594 - val_binary_accuracy: 0.9533\n",
            "\n",
            "Epoch 00024: val_loss did not improve from 0.15650\n",
            "Epoch 25/100\n",
            "100/100 [==============================] - 80s 804ms/step - loss: 0.1395 - binary_accuracy: 0.9549 - val_loss: 0.1573 - val_binary_accuracy: 0.9530\n",
            "\n",
            "Epoch 00025: val_loss did not improve from 0.15650\n",
            "Epoch 26/100\n",
            "100/100 [==============================] - 81s 809ms/step - loss: 0.1391 - binary_accuracy: 0.9539 - val_loss: 0.1628 - val_binary_accuracy: 0.9535\n",
            "\n",
            "Epoch 00026: val_loss did not improve from 0.15650\n",
            "Epoch 27/100\n",
            "100/100 [==============================] - 80s 803ms/step - loss: 0.1405 - binary_accuracy: 0.9555 - val_loss: 0.1668 - val_binary_accuracy: 0.9532\n",
            "\n",
            "Epoch 00027: val_loss did not improve from 0.15650\n",
            "Epoch 28/100\n",
            "100/100 [==============================] - 83s 825ms/step - loss: 0.1390 - binary_accuracy: 0.9561 - val_loss: 0.1841 - val_binary_accuracy: 0.9534\n",
            "\n",
            "Epoch 00028: val_loss did not improve from 0.15650\n",
            "Epoch 29/100\n",
            "100/100 [==============================] - 81s 806ms/step - loss: 0.1370 - binary_accuracy: 0.9555 - val_loss: 0.1561 - val_binary_accuracy: 0.9535\n",
            "\n",
            "Epoch 00029: val_loss improved from 0.15650 to 0.15613, saving model to xray_best_weights.hdf5\n",
            "Epoch 30/100\n",
            "100/100 [==============================] - 81s 811ms/step - loss: 0.1319 - binary_accuracy: 0.9566 - val_loss: 0.1975 - val_binary_accuracy: 0.9352\n",
            "\n",
            "Epoch 00030: val_loss did not improve from 0.15613\n",
            "Epoch 31/100\n",
            "100/100 [==============================] - 81s 809ms/step - loss: 0.1325 - binary_accuracy: 0.9575 - val_loss: 0.1549 - val_binary_accuracy: 0.9535\n",
            "\n",
            "Epoch 00031: val_loss improved from 0.15613 to 0.15492, saving model to xray_best_weights.hdf5\n",
            "Epoch 32/100\n",
            "100/100 [==============================] - 82s 821ms/step - loss: 0.1396 - binary_accuracy: 0.9541 - val_loss: 0.1627 - val_binary_accuracy: 0.9534\n",
            "\n",
            "Epoch 00032: val_loss did not improve from 0.15492\n",
            "Epoch 33/100\n",
            "100/100 [==============================] - 80s 805ms/step - loss: 0.1366 - binary_accuracy: 0.9556 - val_loss: 0.1587 - val_binary_accuracy: 0.9531\n",
            "\n",
            "Epoch 00033: val_loss did not improve from 0.15492\n",
            "Epoch 34/100\n",
            "100/100 [==============================] - 81s 806ms/step - loss: 0.1324 - binary_accuracy: 0.9585 - val_loss: 0.1603 - val_binary_accuracy: 0.9538\n",
            "\n",
            "Epoch 00034: val_loss did not improve from 0.15492\n",
            "Epoch 35/100\n",
            "100/100 [==============================] - 81s 813ms/step - loss: 0.1366 - binary_accuracy: 0.9561 - val_loss: 0.1667 - val_binary_accuracy: 0.9524\n",
            "\n",
            "Epoch 00035: val_loss did not improve from 0.15492\n",
            "Epoch 36/100\n",
            "100/100 [==============================] - 81s 806ms/step - loss: 0.1309 - binary_accuracy: 0.9576 - val_loss: 0.1596 - val_binary_accuracy: 0.9534\n",
            "\n",
            "Epoch 00036: val_loss did not improve from 0.15492\n",
            "Epoch 37/100\n",
            "100/100 [==============================] - 80s 802ms/step - loss: 0.1336 - binary_accuracy: 0.9568 - val_loss: 0.1664 - val_binary_accuracy: 0.9507\n",
            "\n",
            "Epoch 00037: val_loss did not improve from 0.15492\n",
            "Epoch 38/100\n",
            "100/100 [==============================] - 80s 797ms/step - loss: 0.1331 - binary_accuracy: 0.9560 - val_loss: 0.1623 - val_binary_accuracy: 0.9531\n",
            "\n",
            "Epoch 00038: val_loss did not improve from 0.15492\n",
            "Epoch 39/100\n",
            "100/100 [==============================] - 82s 818ms/step - loss: 0.1353 - binary_accuracy: 0.9561 - val_loss: 0.1604 - val_binary_accuracy: 0.9523\n",
            "\n",
            "Epoch 00039: val_loss did not improve from 0.15492\n",
            "Epoch 40/100\n",
            "100/100 [==============================] - 80s 801ms/step - loss: 0.1321 - binary_accuracy: 0.9567 - val_loss: 0.1550 - val_binary_accuracy: 0.9535\n",
            "\n",
            "Epoch 00040: val_loss did not improve from 0.15492\n",
            "Epoch 41/100\n",
            "100/100 [==============================] - 80s 799ms/step - loss: 0.1300 - binary_accuracy: 0.9572 - val_loss: 0.1598 - val_binary_accuracy: 0.9501\n",
            "\n",
            "Epoch 00041: val_loss did not improve from 0.15492\n",
            "Epoch 42/100\n",
            "100/100 [==============================] - 80s 802ms/step - loss: 0.1367 - binary_accuracy: 0.9557 - val_loss: 0.1651 - val_binary_accuracy: 0.9532\n",
            "\n",
            "Epoch 00042: val_loss did not improve from 0.15492\n",
            "Epoch 43/100\n",
            "100/100 [==============================] - 82s 824ms/step - loss: 0.1319 - binary_accuracy: 0.9569 - val_loss: 0.1557 - val_binary_accuracy: 0.9533\n",
            "\n",
            "Epoch 00043: val_loss did not improve from 0.15492\n",
            "Epoch 44/100\n",
            "100/100 [==============================] - 80s 804ms/step - loss: 0.1327 - binary_accuracy: 0.9565 - val_loss: 0.1652 - val_binary_accuracy: 0.9531\n",
            "\n",
            "Epoch 00044: val_loss did not improve from 0.15492\n",
            "Epoch 45/100\n",
            "100/100 [==============================] - 81s 806ms/step - loss: 0.1354 - binary_accuracy: 0.9556 - val_loss: 0.1763 - val_binary_accuracy: 0.9483\n",
            "\n",
            "Epoch 00045: val_loss did not improve from 0.15492\n",
            "Epoch 46/100\n",
            "100/100 [==============================] - 80s 803ms/step - loss: 0.1328 - binary_accuracy: 0.9565 - val_loss: 0.1536 - val_binary_accuracy: 0.9536\n",
            "\n",
            "Epoch 00046: val_loss improved from 0.15492 to 0.15356, saving model to xray_best_weights.hdf5\n",
            "Epoch 47/100\n",
            "100/100 [==============================] - 82s 819ms/step - loss: 0.1383 - binary_accuracy: 0.9546 - val_loss: 0.1618 - val_binary_accuracy: 0.9529\n",
            "\n",
            "Epoch 00047: val_loss did not improve from 0.15356\n",
            "Epoch 48/100\n",
            "100/100 [==============================] - 80s 805ms/step - loss: 0.1368 - binary_accuracy: 0.9548 - val_loss: 0.1656 - val_binary_accuracy: 0.9508\n",
            "\n",
            "Epoch 00048: val_loss did not improve from 0.15356\n",
            "Epoch 49/100\n",
            "100/100 [==============================] - 81s 806ms/step - loss: 0.1331 - binary_accuracy: 0.9554 - val_loss: 0.1534 - val_binary_accuracy: 0.9533\n",
            "\n",
            "Epoch 00049: val_loss improved from 0.15356 to 0.15337, saving model to xray_best_weights.hdf5\n",
            "Epoch 50/100\n",
            "100/100 [==============================] - 80s 800ms/step - loss: 0.1350 - binary_accuracy: 0.9551 - val_loss: 0.1586 - val_binary_accuracy: 0.9533\n",
            "\n",
            "Epoch 00050: val_loss did not improve from 0.15337\n",
            "Epoch 51/100\n",
            "100/100 [==============================] - 82s 819ms/step - loss: 0.1331 - binary_accuracy: 0.9551 - val_loss: 0.1629 - val_binary_accuracy: 0.9534\n",
            "\n",
            "Epoch 00051: val_loss did not improve from 0.15337\n",
            "Epoch 52/100\n",
            "100/100 [==============================] - 81s 807ms/step - loss: 0.1353 - binary_accuracy: 0.9550 - val_loss: 0.1539 - val_binary_accuracy: 0.9526\n",
            "\n",
            "Epoch 00052: val_loss did not improve from 0.15337\n",
            "Epoch 53/100\n",
            "100/100 [==============================] - 80s 802ms/step - loss: 0.1332 - binary_accuracy: 0.9571 - val_loss: 0.1566 - val_binary_accuracy: 0.9526\n",
            "\n",
            "Epoch 00053: val_loss did not improve from 0.15337\n",
            "Epoch 54/100\n",
            "100/100 [==============================] - 81s 813ms/step - loss: 0.1371 - binary_accuracy: 0.9548 - val_loss: 0.1691 - val_binary_accuracy: 0.9535\n",
            "\n",
            "Epoch 00054: val_loss did not improve from 0.15337\n",
            "Epoch 55/100\n",
            "100/100 [==============================] - 82s 817ms/step - loss: 0.1263 - binary_accuracy: 0.9580 - val_loss: 0.1562 - val_binary_accuracy: 0.9536\n",
            "\n",
            "Epoch 00055: val_loss did not improve from 0.15337\n",
            "Epoch 56/100\n",
            "100/100 [==============================] - 81s 810ms/step - loss: 0.1362 - binary_accuracy: 0.9546 - val_loss: 0.1559 - val_binary_accuracy: 0.9536\n",
            "\n",
            "Epoch 00056: val_loss did not improve from 0.15337\n",
            "Epoch 57/100\n",
            "100/100 [==============================] - 81s 806ms/step - loss: 0.1289 - binary_accuracy: 0.9579 - val_loss: 0.1537 - val_binary_accuracy: 0.9533\n",
            "\n",
            "Epoch 00057: val_loss did not improve from 0.15337\n",
            "Epoch 58/100\n",
            "100/100 [==============================] - 82s 818ms/step - loss: 0.1350 - binary_accuracy: 0.9555 - val_loss: 0.1554 - val_binary_accuracy: 0.9520\n",
            "\n",
            "Epoch 00058: val_loss did not improve from 0.15337\n",
            "Epoch 59/100\n",
            "100/100 [==============================] - 81s 811ms/step - loss: 0.1355 - binary_accuracy: 0.9556 - val_loss: 0.1636 - val_binary_accuracy: 0.9534\n",
            "\n",
            "Epoch 00059: val_loss did not improve from 0.15337\n",
            "Epoch 60/100\n",
            "100/100 [==============================] - 81s 809ms/step - loss: 0.1333 - binary_accuracy: 0.9568 - val_loss: 0.1531 - val_binary_accuracy: 0.9536\n",
            "\n",
            "Epoch 00060: val_loss improved from 0.15337 to 0.15305, saving model to xray_best_weights.hdf5\n",
            "Epoch 61/100\n",
            "100/100 [==============================] - 81s 806ms/step - loss: 0.1332 - binary_accuracy: 0.9561 - val_loss: 0.1523 - val_binary_accuracy: 0.9531\n",
            "\n",
            "Epoch 00061: val_loss improved from 0.15305 to 0.15226, saving model to xray_best_weights.hdf5\n",
            "Epoch 62/100\n",
            "100/100 [==============================] - 82s 820ms/step - loss: 0.1339 - binary_accuracy: 0.9545 - val_loss: 0.1599 - val_binary_accuracy: 0.9526\n",
            "\n",
            "Epoch 00062: val_loss did not improve from 0.15226\n",
            "Epoch 63/100\n",
            "100/100 [==============================] - 81s 807ms/step - loss: 0.1330 - binary_accuracy: 0.9568 - val_loss: 0.1716 - val_binary_accuracy: 0.9511\n",
            "\n",
            "Epoch 00063: val_loss did not improve from 0.15226\n",
            "Epoch 64/100\n",
            "100/100 [==============================] - 81s 806ms/step - loss: 0.1332 - binary_accuracy: 0.9554 - val_loss: 0.1719 - val_binary_accuracy: 0.9533\n",
            "\n",
            "Epoch 00064: val_loss did not improve from 0.15226\n",
            "Epoch 65/100\n",
            "100/100 [==============================] - 80s 800ms/step - loss: 0.1350 - binary_accuracy: 0.9551 - val_loss: 0.1580 - val_binary_accuracy: 0.9532\n",
            "\n",
            "Epoch 00065: val_loss did not improve from 0.15226\n",
            "Epoch 66/100\n",
            "100/100 [==============================] - 82s 823ms/step - loss: 0.1329 - binary_accuracy: 0.9561 - val_loss: 0.1734 - val_binary_accuracy: 0.9532\n",
            "\n",
            "Epoch 00066: val_loss did not improve from 0.15226\n",
            "Epoch 67/100\n",
            "100/100 [==============================] - 81s 807ms/step - loss: 0.1324 - binary_accuracy: 0.9572 - val_loss: 0.1590 - val_binary_accuracy: 0.9533\n",
            "\n",
            "Epoch 00067: val_loss did not improve from 0.15226\n",
            "Epoch 68/100\n",
            "100/100 [==============================] - 81s 805ms/step - loss: 0.1368 - binary_accuracy: 0.9543 - val_loss: 0.1615 - val_binary_accuracy: 0.9531\n",
            "\n",
            "Epoch 00068: val_loss did not improve from 0.15226\n",
            "Epoch 69/100\n",
            "100/100 [==============================] - 81s 809ms/step - loss: 0.1369 - binary_accuracy: 0.9548 - val_loss: 0.1568 - val_binary_accuracy: 0.9532\n",
            "\n",
            "Epoch 00069: val_loss did not improve from 0.15226\n",
            "Epoch 70/100\n",
            "100/100 [==============================] - 82s 821ms/step - loss: 0.1363 - binary_accuracy: 0.9549 - val_loss: 0.1671 - val_binary_accuracy: 0.9490\n",
            "\n",
            "Epoch 00070: val_loss did not improve from 0.15226\n",
            "Epoch 71/100\n",
            "100/100 [==============================] - 80s 805ms/step - loss: 0.1337 - binary_accuracy: 0.9559 - val_loss: 0.1517 - val_binary_accuracy: 0.9535\n",
            "\n",
            "Epoch 00071: val_loss improved from 0.15226 to 0.15167, saving model to xray_best_weights.hdf5\n",
            "Epoch 72/100\n",
            "100/100 [==============================] - 80s 800ms/step - loss: 0.1343 - binary_accuracy: 0.9547 - val_loss: 0.1575 - val_binary_accuracy: 0.9531\n",
            "\n",
            "Epoch 00072: val_loss did not improve from 0.15167\n",
            "Epoch 73/100\n",
            "100/100 [==============================] - 82s 816ms/step - loss: 0.1327 - binary_accuracy: 0.9551 - val_loss: 0.1569 - val_binary_accuracy: 0.9523\n",
            "\n",
            "Epoch 00073: val_loss did not improve from 0.15167\n",
            "Epoch 74/100\n",
            "100/100 [==============================] - 82s 819ms/step - loss: 0.1331 - binary_accuracy: 0.9556 - val_loss: 0.1579 - val_binary_accuracy: 0.9533\n",
            "\n",
            "Epoch 00074: val_loss did not improve from 0.15167\n",
            "Epoch 75/100\n",
            "100/100 [==============================] - 80s 803ms/step - loss: 0.1316 - binary_accuracy: 0.9556 - val_loss: 0.1506 - val_binary_accuracy: 0.9535\n",
            "\n",
            "Epoch 00075: val_loss improved from 0.15167 to 0.15065, saving model to xray_best_weights.hdf5\n",
            "Epoch 76/100\n",
            "100/100 [==============================] - 80s 804ms/step - loss: 0.1351 - binary_accuracy: 0.9552 - val_loss: 0.1636 - val_binary_accuracy: 0.9528\n",
            "\n",
            "Epoch 00076: val_loss did not improve from 0.15065\n",
            "Epoch 77/100\n",
            "100/100 [==============================] - 81s 815ms/step - loss: 0.1318 - binary_accuracy: 0.9574 - val_loss: 0.2227 - val_binary_accuracy: 0.9459\n",
            "\n",
            "Epoch 00077: val_loss did not improve from 0.15065\n",
            "Epoch 78/100\n",
            "100/100 [==============================] - 81s 813ms/step - loss: 0.1347 - binary_accuracy: 0.9564 - val_loss: 0.1624 - val_binary_accuracy: 0.9505\n",
            "\n",
            "Epoch 00078: val_loss did not improve from 0.15065\n",
            "Epoch 79/100\n",
            "100/100 [==============================] - 81s 807ms/step - loss: 0.1339 - binary_accuracy: 0.9557 - val_loss: 0.1524 - val_binary_accuracy: 0.9525\n",
            "\n",
            "Epoch 00079: val_loss did not improve from 0.15065\n",
            "Epoch 80/100\n",
            "100/100 [==============================] - 81s 811ms/step - loss: 0.1349 - binary_accuracy: 0.9548 - val_loss: 0.1526 - val_binary_accuracy: 0.9529\n",
            "\n",
            "Epoch 00080: val_loss did not improve from 0.15065\n",
            "Epoch 81/100\n",
            "100/100 [==============================] - 82s 815ms/step - loss: 0.1271 - binary_accuracy: 0.9579 - val_loss: 0.1550 - val_binary_accuracy: 0.9534\n",
            "\n",
            "Epoch 00081: val_loss did not improve from 0.15065\n",
            "Epoch 82/100\n",
            "100/100 [==============================] - 81s 810ms/step - loss: 0.1283 - binary_accuracy: 0.9569 - val_loss: 0.1570 - val_binary_accuracy: 0.9524\n",
            "\n",
            "Epoch 00082: val_loss did not improve from 0.15065\n",
            "Epoch 83/100\n",
            "100/100 [==============================] - 80s 799ms/step - loss: 0.1340 - binary_accuracy: 0.9554 - val_loss: 0.1559 - val_binary_accuracy: 0.9515\n",
            "\n",
            "Epoch 00083: val_loss did not improve from 0.15065\n",
            "Epoch 84/100\n",
            "100/100 [==============================] - 80s 805ms/step - loss: 0.1281 - binary_accuracy: 0.9570 - val_loss: 0.1510 - val_binary_accuracy: 0.9533\n",
            "\n",
            "Epoch 00084: val_loss did not improve from 0.15065\n",
            "Epoch 85/100\n",
            "100/100 [==============================] - 82s 818ms/step - loss: 0.1306 - binary_accuracy: 0.9565 - val_loss: 0.1526 - val_binary_accuracy: 0.9536\n",
            "\n",
            "Epoch 00085: val_loss did not improve from 0.15065\n",
            "Epoch 86/100\n",
            "100/100 [==============================] - 80s 801ms/step - loss: 0.1317 - binary_accuracy: 0.9564 - val_loss: 0.1565 - val_binary_accuracy: 0.9515\n",
            "\n",
            "Epoch 00086: val_loss did not improve from 0.15065\n",
            "Epoch 87/100\n",
            "100/100 [==============================] - 80s 804ms/step - loss: 0.1298 - binary_accuracy: 0.9560 - val_loss: 0.1540 - val_binary_accuracy: 0.9526\n",
            "\n",
            "Epoch 00087: val_loss did not improve from 0.15065\n",
            "Epoch 88/100\n",
            "100/100 [==============================] - 81s 810ms/step - loss: 0.1313 - binary_accuracy: 0.9569 - val_loss: 0.1640 - val_binary_accuracy: 0.9511\n",
            "\n",
            "Epoch 00088: val_loss did not improve from 0.15065\n",
            "Epoch 89/100\n",
            "100/100 [==============================] - 81s 808ms/step - loss: 0.1334 - binary_accuracy: 0.9554 - val_loss: 0.1529 - val_binary_accuracy: 0.9537\n",
            "\n",
            "Epoch 00089: val_loss did not improve from 0.15065\n",
            "Epoch 90/100\n",
            "100/100 [==============================] - 80s 797ms/step - loss: 0.1321 - binary_accuracy: 0.9550 - val_loss: 0.1508 - val_binary_accuracy: 0.9530\n",
            "\n",
            "Epoch 00090: val_loss did not improve from 0.15065\n",
            "Epoch 91/100\n",
            "100/100 [==============================] - 80s 800ms/step - loss: 0.1290 - binary_accuracy: 0.9564 - val_loss: 0.1523 - val_binary_accuracy: 0.9536\n",
            "\n",
            "Epoch 00091: val_loss did not improve from 0.15065\n",
            "Epoch 92/100\n",
            "100/100 [==============================] - 81s 809ms/step - loss: 0.1338 - binary_accuracy: 0.9545 - val_loss: 0.1732 - val_binary_accuracy: 0.9509\n",
            "\n",
            "Epoch 00092: val_loss did not improve from 0.15065\n",
            "Epoch 93/100\n",
            "100/100 [==============================] - 82s 820ms/step - loss: 0.1297 - binary_accuracy: 0.9565 - val_loss: 0.1544 - val_binary_accuracy: 0.9529\n",
            "\n",
            "Epoch 00093: val_loss did not improve from 0.15065\n",
            "Epoch 94/100\n",
            "100/100 [==============================] - 80s 803ms/step - loss: 0.1335 - binary_accuracy: 0.9550 - val_loss: 0.1672 - val_binary_accuracy: 0.9520\n",
            "\n",
            "Epoch 00094: val_loss did not improve from 0.15065\n",
            "Epoch 95/100\n",
            "100/100 [==============================] - 80s 801ms/step - loss: 0.1344 - binary_accuracy: 0.9555 - val_loss: 0.1649 - val_binary_accuracy: 0.9494\n",
            "\n",
            "Epoch 00095: val_loss did not improve from 0.15065\n",
            "Epoch 96/100\n",
            "100/100 [==============================] - 81s 810ms/step - loss: 0.1309 - binary_accuracy: 0.9565 - val_loss: 0.1574 - val_binary_accuracy: 0.9528\n",
            "\n",
            "Epoch 00096: val_loss did not improve from 0.15065\n",
            "Epoch 97/100\n",
            "100/100 [==============================] - 82s 818ms/step - loss: 0.1329 - binary_accuracy: 0.9559 - val_loss: 0.1563 - val_binary_accuracy: 0.9524\n",
            "\n",
            "Epoch 00097: val_loss did not improve from 0.15065\n",
            "Epoch 98/100\n",
            "100/100 [==============================] - 81s 807ms/step - loss: 0.1292 - binary_accuracy: 0.9574 - val_loss: 0.1521 - val_binary_accuracy: 0.9530\n",
            "\n",
            "Epoch 00098: val_loss did not improve from 0.15065\n",
            "Epoch 99/100\n",
            "100/100 [==============================] - 80s 801ms/step - loss: 0.1300 - binary_accuracy: 0.9569 - val_loss: 0.1570 - val_binary_accuracy: 0.9533\n",
            "\n",
            "Epoch 00099: val_loss did not improve from 0.15065\n",
            "Epoch 100/100\n",
            "100/100 [==============================] - 80s 803ms/step - loss: 0.1287 - binary_accuracy: 0.9571 - val_loss: 0.1526 - val_binary_accuracy: 0.9528\n",
            "\n",
            "Epoch 00100: val_loss did not improve from 0.15065\n"
          ],
          "name": "stdout"
        }
      ]
    },
    {
      "cell_type": "code",
      "metadata": {
        "id": "MIXq2AQjeJ9g",
        "colab_type": "code",
        "outputId": "01d1fc0c-7c00-4e5c-f712-39b55dd43d75",
        "colab": {
          "base_uri": "https://localhost:8080/",
          "height": 551
        }
      },
      "source": [
        "acc = history.history['binary_accuracy']\n",
        "val_acc = history.history['val_binary_accuracy']\n",
        "loss = history.history['loss']\n",
        "val_loss = history.history['val_loss']\n",
        "\n",
        "epochs = range(len(acc))\n",
        "\n",
        "plt.plot(epochs, acc, 'bo', label='Training acc')\n",
        "plt.plot(epochs, val_acc, 'b', label='Validation acc')\n",
        "plt.title('Training and validation accuracy')\n",
        "plt.legend()\n",
        "\n",
        "plt.figure()\n",
        "\n",
        "plt.plot(epochs, loss, 'bo', label='Training loss')\n",
        "plt.plot(epochs, val_loss, 'b', label='Validation loss')\n",
        "plt.title('Training and validation loss')\n",
        "plt.legend()\n",
        "\n",
        "plt.show()"
      ],
      "execution_count": 64,
      "outputs": [
        {
          "output_type": "display_data",
          "data": {
            "image/png": "[encoded data removed]",
            "text/plain": [
              "<Figure size 432x288 with 1 Axes>"
            ]
          },
          "metadata": {
            "tags": []
          }
        },
        {
          "output_type": "display_data",
          "data": {
            "image/png": "[encoded data removed]",
            "text/plain": [
              "<Figure size 432x288 with 1 Axes>"
            ]
          },
          "metadata": {
            "tags": []
          }
        }
      ]
    },
    {
      "cell_type": "markdown",
      "metadata": {
        "id": "7eRVFEjzBWnh",
        "colab_type": "text"
      },
      "source": [
        "# Model Performance Validation"
      ]
    },
    {
      "cell_type": "code",
      "metadata": {
        "id": "0iihTelY5hh3",
        "colab_type": "code",
        "colab": {}
      },
      "source": [
        "model.load_weights(weight_path)"
      ],
      "execution_count": 0,
      "outputs": []
    },
    {
      "cell_type": "code",
      "metadata": {
        "id": "wGrXnmh5E_xL",
        "colab_type": "code",
        "outputId": "4754e4b3-196b-48cd-ebac-2b2e2ca108a7",
        "colab": {
          "base_uri": "https://localhost:8080/",
          "height": 36
        }
      },
      "source": [
        "pred_y = model.predict(test_x, batch_size=32, verbose=True)"
      ],
      "execution_count": 65,
      "outputs": [
        {
          "output_type": "stream",
          "text": [
            "2048/2048 [==============================] - 9s 4ms/step\n"
          ],
          "name": "stdout"
        }
      ]
    },
    {
      "cell_type": "code",
      "metadata": {
        "id": "cHQcDdEOtz1O",
        "colab_type": "code",
        "colab": {}
      },
      "source": [
        "pred_y"
      ],
      "execution_count": 0,
      "outputs": []
    },
    {
      "cell_type": "code",
      "metadata": {
        "id": "Ylmp6PMKt8Vq",
        "colab_type": "code",
        "colab": {}
      },
      "source": [
        ""
      ],
      "execution_count": 0,
      "outputs": []
    },
    {
      "cell_type": "code",
      "metadata": {
        "id": "el2KTZWYFAT3",
        "colab_type": "code",
        "outputId": "7bad7e3a-4a99-4184-fe3c-de9e97f2d764",
        "colab": {
          "base_uri": "https://localhost:8080/",
          "height": 582
        }
      },
      "source": [
        "from sklearn.metrics import roc_curve, auc\n",
        "fig, c_ax = plt.subplots(1,1, figsize = (9, 9))\n",
        "for (idx, c_label) in enumerate(cats_list):\n",
        "    fpr, tpr, thresholds = roc_curve(test_y[:,idx].astype(int), pred_y[:,idx])\n",
        "    c_ax.plot(fpr, tpr, label = '%s (AUC:%0.2f)'  % (c_label, auc(fpr, tpr)))\n",
        "c_ax.legend()\n",
        "c_ax.set_xlabel('False Positive Rate')\n",
        "c_ax.set_ylabel('True Positive Rate')"
      ],
      "execution_count": 66,
      "outputs": [
        {
          "output_type": "execute_result",
          "data": {
            "text/plain": [
              "Text(0, 0.5, 'True Positive Rate')"
            ]
          },
          "metadata": {
            "tags": []
          },
          "execution_count": 66
        },
        {
          "output_type": "display_data",
          "data": {
            "image/png": "[encoded data removed]",
            "text/plain": [
              "<Figure size 648x648 with 1 Axes>"
            ]
          },
          "metadata": {
            "tags": []
          }
        }
      ]
    },
    {
      "cell_type": "markdown",
      "metadata": {
        "id": "lASjnFmmnlVF",
        "colab_type": "text"
      },
      "source": [
        "**Saving model and weights**"
      ]
    },
    {
      "cell_type": "code",
      "metadata": {
        "id": "AAc9I-oDZf7Q",
        "colab_type": "code",
        "colab": {}
      },
      "source": [
        "model_json = model.to_json()\n",
        "with open(\"model.json\", \"w\") as json_file:\n",
        "    json_file.write(model_json)\n",
        "\n",
        "    # serialize weights to HDF5\n",
        "model.save_weights(\"model.h5\")\n",
        "print(\"Saved model to disk\")"
      ],
      "execution_count": 0,
      "outputs": []
    },
    {
      "cell_type": "code",
      "metadata": {
        "id": "0dkL6S63Uusn",
        "colab_type": "code",
        "colab": {}
      },
      "source": [
        "model_file = drive.CreateFile({'title' : 'model.h5'})                       \n",
        "model_file.SetContentFile('model.h5')                       \n",
        "model_file.Upload()\n",
        "# download to google drive                       \n",
        "drive.CreateFile({'id': model_file.get('id')})\n",
        "\n",
        "model_file = drive.CreateFile({'title' : 'model.json'})                       \n",
        "model_file.SetContentFile('model.json')                       \n",
        "model_file.Upload()\n",
        "# download to google drive                       \n",
        "drive.CreateFile({'id': model_file.get('id')})"
      ],
      "execution_count": 0,
      "outputs": []
    },
    {
      "cell_type": "markdown",
      "metadata": {
        "id": "s40uTsvbnr4q",
        "colab_type": "text"
      },
      "source": [
        "**Loading saved model and weights if needed**"
      ]
    },
    {
      "cell_type": "code",
      "metadata": {
        "id": "o6AL9sAccblw",
        "colab_type": "code",
        "colab": {}
      },
      "source": [
        "# load json and create model\n",
        "json_file = open('model.json', 'r')\n",
        "loaded_model_json = json_file.read()\n",
        "json_file.close()\n",
        "loaded_model = model_from_json(loaded_model_json)\n",
        "# load weights into new model\n",
        "loaded_model.load_weights(\"model.h5\")\n",
        "print(\"Loaded model from disk\")\n",
        " \n",
        "# evaluate loaded model on test data\n",
        "loaded_model.compile(loss='binary_crossentropy', optimizer='rmsprop', metrics=['accuracy'])\n",
        "score = loaded_model.evaluate(X, Y, verbose=0)\n",
        "print(\"%s: %.2f%%\" % (loaded_model.metrics_names[1], score[1]*100))"
      ],
      "execution_count": 0,
      "outputs": []
    },
    {
      "cell_type": "markdown",
      "metadata": {
        "id": "bp3O2bPtiPoh",
        "colab_type": "text"
      },
      "source": [
        "# Code for getting masks from bounding boxes"
      ]
    },
    {
      "cell_type": "code",
      "metadata": {
        "id": "HFyjZU2ulHr5",
        "colab_type": "code",
        "colab": {}
      },
      "source": [
        ""
      ],
      "execution_count": 0,
      "outputs": []
    },
    {
      "cell_type": "code",
      "metadata": {
        "id": "jv8bfE5siN83",
        "colab_type": "code",
        "colab": {}
      },
      "source": [
        "FILE_NAME = '/home/shivambhardwaj/Downloads/00000071_001.png'\n",
        "img = cv2.imread(FILE_NAME) \n",
        "mask = np.zeros(img.shape,dtype = \"uint8\")\n",
        "new=cv2.rectangle(mask, (339, 119), ((172+339), (351+119)), (255, 255, 255), -1) \n",
        "maskedImg = cv2.bitwise_and(img,mask)\n",
        "#cv2.imshow(\" masked image\",maskedImg)\n",
        "cv2.imwrite('/home/shivambhardwaj/Downloads/00000071_0012.png',maskedImg)"
      ],
      "execution_count": 0,
      "outputs": []
    },
    {
      "cell_type": "markdown",
      "metadata": {
        "id": "UTDKJ5aJthv-",
        "colab_type": "text"
      },
      "source": [
        "# Test"
      ]
    },
    {
      "cell_type": "code",
      "metadata": {
        "id": "vLYGtOMLtPPo",
        "colab_type": "code",
        "colab": {}
      },
      "source": [
        "data = pd.read_csv('/content/Data_Entry_2017.csv')\n",
        "data = data.loc[:,['Image Index','Finding Labels']]"
      ],
      "execution_count": 0,
      "outputs": []
    },
    {
      "cell_type": "code",
      "metadata": {
        "id": "5GTKGRLeuxM8",
        "colab_type": "code",
        "colab": {}
      },
      "source": [
        "data['Finding Labels2'] = data['Finding Labels'].apply(lambda x: x.split('|'))"
      ],
      "execution_count": 0,
      "outputs": []
    },
    {
      "cell_type": "code",
      "metadata": {
        "id": "Ul10eE-6wau1",
        "colab_type": "code",
        "colab": {}
      },
      "source": [
        "labels = []\n",
        "\n",
        "for i in data['Finding Labels2']:\n",
        "    labels += i"
      ],
      "execution_count": 0,
      "outputs": []
    },
    {
      "cell_type": "code",
      "metadata": {
        "id": "vfAEJNOIyuyg",
        "colab_type": "code",
        "colab": {}
      },
      "source": [
        "labels = list(np.unique(labels))"
      ],
      "execution_count": 0,
      "outputs": []
    },
    {
      "cell_type": "code",
      "metadata": {
        "id": "rGl_ZVcWy7Bg",
        "colab_type": "code",
        "colab": {}
      },
      "source": [
        "for i in labels:\n",
        "    data[i] = data['Finding Labels2'].map(lambda x: 1 if i in x else 0)"
      ],
      "execution_count": 0,
      "outputs": []
    },
    {
      "cell_type": "code",
      "metadata": {
        "id": "U_MKXjXNzzzV",
        "colab_type": "code",
        "outputId": "e14dbf4d-e110-4720-f355-6a5d6b13a32b",
        "colab": {
          "base_uri": "https://localhost:8080/",
          "height": 275
        }
      },
      "source": [
        "data.head()"
      ],
      "execution_count": 0,
      "outputs": [
        {
          "output_type": "execute_result",
          "data": {
            "text/html": [
              "<div>\n",
              "<style scoped>\n",
              "    .dataframe tbody tr th:only-of-type {\n",
              "        vertical-align: middle;\n",
              "    }\n",
              "\n",
              "    .dataframe tbody tr th {\n",
              "        vertical-align: top;\n",
              "    }\n",
              "\n",
              "    .dataframe thead th {\n",
              "        text-align: right;\n",
              "    }\n",
              "</style>\n",
              "<table border=\"1\" class=\"dataframe\">\n",
              "  <thead>\n",
              "    <tr style=\"text-align: right;\">\n",
              "      <th></th>\n",
              "      <th>Image Index</th>\n",
              "      <th>Finding Labels</th>\n",
              "      <th>Finding Labels2</th>\n",
              "      <th>Atelectasis</th>\n",
              "      <th>Cardiomegaly</th>\n",
              "      <th>Consolidation</th>\n",
              "      <th>Edema</th>\n",
              "      <th>Effusion</th>\n",
              "      <th>Emphysema</th>\n",
              "      <th>Fibrosis</th>\n",
              "      <th>Hernia</th>\n",
              "      <th>Infiltration</th>\n",
              "      <th>Mass</th>\n",
              "      <th>No Finding</th>\n",
              "      <th>Nodule</th>\n",
              "      <th>Pleural_Thickening</th>\n",
              "      <th>Pneumonia</th>\n",
              "      <th>Pneumothorax</th>\n",
              "    </tr>\n",
              "  </thead>\n",
              "  <tbody>\n",
              "    <tr>\n",
              "      <th>0</th>\n",
              "      <td>00000001_000.png</td>\n",
              "      <td>Cardiomegaly</td>\n",
              "      <td>[Cardiomegaly]</td>\n",
              "      <td>0</td>\n",
              "      <td>1</td>\n",
              "      <td>0</td>\n",
              "      <td>0</td>\n",
              "      <td>0</td>\n",
              "      <td>0</td>\n",
              "      <td>0</td>\n",
              "      <td>0</td>\n",
              "      <td>0</td>\n",
              "      <td>0</td>\n",
              "      <td>0</td>\n",
              "      <td>0</td>\n",
              "      <td>0</td>\n",
              "      <td>0</td>\n",
              "      <td>0</td>\n",
              "    </tr>\n",
              "    <tr>\n",
              "      <th>1</th>\n",
              "      <td>00000001_001.png</td>\n",
              "      <td>Cardiomegaly|Emphysema</td>\n",
              "      <td>[Cardiomegaly, Emphysema]</td>\n",
              "      <td>0</td>\n",
              "      <td>1</td>\n",
              "      <td>0</td>\n",
              "      <td>0</td>\n",
              "      <td>0</td>\n",
              "      <td>1</td>\n",
              "      <td>0</td>\n",
              "      <td>0</td>\n",
              "      <td>0</td>\n",
              "      <td>0</td>\n",
              "      <td>0</td>\n",
              "      <td>0</td>\n",
              "      <td>0</td>\n",
              "      <td>0</td>\n",
              "      <td>0</td>\n",
              "    </tr>\n",
              "    <tr>\n",
              "      <th>2</th>\n",
              "      <td>00000001_002.png</td>\n",
              "      <td>Cardiomegaly|Effusion</td>\n",
              "      <td>[Cardiomegaly, Effusion]</td>\n",
              "      <td>0</td>\n",
              "      <td>1</td>\n",
              "      <td>0</td>\n",
              "      <td>0</td>\n",
              "      <td>1</td>\n",
              "      <td>0</td>\n",
              "      <td>0</td>\n",
              "      <td>0</td>\n",
              "      <td>0</td>\n",
              "      <td>0</td>\n",
              "      <td>0</td>\n",
              "      <td>0</td>\n",
              "      <td>0</td>\n",
              "      <td>0</td>\n",
              "      <td>0</td>\n",
              "    </tr>\n",
              "    <tr>\n",
              "      <th>3</th>\n",
              "      <td>00000002_000.png</td>\n",
              "      <td>No Finding</td>\n",
              "      <td>[No Finding]</td>\n",
              "      <td>0</td>\n",
              "      <td>0</td>\n",
              "      <td>0</td>\n",
              "      <td>0</td>\n",
              "      <td>0</td>\n",
              "      <td>0</td>\n",
              "      <td>0</td>\n",
              "      <td>0</td>\n",
              "      <td>0</td>\n",
              "      <td>0</td>\n",
              "      <td>1</td>\n",
              "      <td>0</td>\n",
              "      <td>0</td>\n",
              "      <td>0</td>\n",
              "      <td>0</td>\n",
              "    </tr>\n",
              "    <tr>\n",
              "      <th>4</th>\n",
              "      <td>00000003_000.png</td>\n",
              "      <td>Hernia</td>\n",
              "      <td>[Hernia]</td>\n",
              "      <td>0</td>\n",
              "      <td>0</td>\n",
              "      <td>0</td>\n",
              "      <td>0</td>\n",
              "      <td>0</td>\n",
              "      <td>0</td>\n",
              "      <td>0</td>\n",
              "      <td>1</td>\n",
              "      <td>0</td>\n",
              "      <td>0</td>\n",
              "      <td>0</td>\n",
              "      <td>0</td>\n",
              "      <td>0</td>\n",
              "      <td>0</td>\n",
              "      <td>0</td>\n",
              "    </tr>\n",
              "  </tbody>\n",
              "</table>\n",
              "</div>"
            ],
            "text/plain": [
              "        Image Index          Finding Labels            Finding Labels2  \\\n",
              "0  00000001_000.png            Cardiomegaly             [Cardiomegaly]   \n",
              "1  00000001_001.png  Cardiomegaly|Emphysema  [Cardiomegaly, Emphysema]   \n",
              "2  00000001_002.png   Cardiomegaly|Effusion   [Cardiomegaly, Effusion]   \n",
              "3  00000002_000.png              No Finding               [No Finding]   \n",
              "4  00000003_000.png                  Hernia                   [Hernia]   \n",
              "\n",
              "   Atelectasis  Cardiomegaly  Consolidation  Edema  Effusion  Emphysema  \\\n",
              "0            0             1              0      0         0          0   \n",
              "1            0             1              0      0         0          1   \n",
              "2            0             1              0      0         1          0   \n",
              "3            0             0              0      0         0          0   \n",
              "4            0             0              0      0         0          0   \n",
              "\n",
              "   Fibrosis  Hernia  Infiltration  Mass  No Finding  Nodule  \\\n",
              "0         0       0             0     0           0       0   \n",
              "1         0       0             0     0           0       0   \n",
              "2         0       0             0     0           0       0   \n",
              "3         0       0             0     0           1       0   \n",
              "4         0       1             0     0           0       0   \n",
              "\n",
              "   Pleural_Thickening  Pneumonia  Pneumothorax  \n",
              "0                   0          0             0  \n",
              "1                   0          0             0  \n",
              "2                   0          0             0  \n",
              "3                   0          0             0  \n",
              "4                   0          0             0  "
            ]
          },
          "metadata": {
            "tags": []
          },
          "execution_count": 37
        }
      ]
    },
    {
      "cell_type": "code",
      "metadata": {
        "id": "7rqFXi0D2K0T",
        "colab_type": "code",
        "colab": {}
      },
      "source": [
        "n_labels = list(df_train['Finding Labels'].unique())\n",
        "n_labels.sort()"
      ],
      "execution_count": 0,
      "outputs": []
    },
    {
      "cell_type": "code",
      "metadata": {
        "id": "FfjAuFXU7T-i",
        "colab_type": "code",
        "outputId": "0ef01b65-0669-4e21-c8d5-96f4340e634b",
        "colab": {
          "base_uri": "https://localhost:8080/",
          "height": 131
        }
      },
      "source": [
        "notreqlabels = [x for x in labels if x not in n_labels]\n",
        "notreqlabels"
      ],
      "execution_count": 0,
      "outputs": [
        {
          "output_type": "execute_result",
          "data": {
            "text/plain": [
              "['Consolidation',\n",
              " 'Edema',\n",
              " 'Emphysema',\n",
              " 'Fibrosis',\n",
              " 'Hernia',\n",
              " 'Pleural_Thickening']"
            ]
          },
          "metadata": {
            "tags": []
          },
          "execution_count": 168
        }
      ]
    },
    {
      "cell_type": "code",
      "metadata": {
        "id": "CLi5zSZy8g20",
        "colab_type": "code",
        "colab": {}
      },
      "source": [
        "notreqlabels = ['Consolidation','Edema','Emphysema',\n",
        "                'Fibrosis','Hernia','Pleural_Thickening']\n",
        "data = data[(data['Consolidation']==0) & (data['Edema']==0) & \n",
        "            (data['Emphysema']==0) & (data['Fibrosis']==0) & \n",
        "            (data['Hernia']==0) & (data['Pleural_Thickening']==0)]\n",
        "data.drop(notreqlabels, inplace=True, axis=1)"
      ],
      "execution_count": 0,
      "outputs": []
    },
    {
      "cell_type": "code",
      "metadata": {
        "id": "0_C4vXs1COUH",
        "colab_type": "code",
        "outputId": "7e01f2bc-573d-4dca-d22f-dd1f2d436cdf",
        "colab": {
          "base_uri": "https://localhost:8080/",
          "height": 204
        }
      },
      "source": [
        "data.head()"
      ],
      "execution_count": 0,
      "outputs": [
        {
          "output_type": "execute_result",
          "data": {
            "text/html": [
              "<div>\n",
              "<style scoped>\n",
              "    .dataframe tbody tr th:only-of-type {\n",
              "        vertical-align: middle;\n",
              "    }\n",
              "\n",
              "    .dataframe tbody tr th {\n",
              "        vertical-align: top;\n",
              "    }\n",
              "\n",
              "    .dataframe thead th {\n",
              "        text-align: right;\n",
              "    }\n",
              "</style>\n",
              "<table border=\"1\" class=\"dataframe\">\n",
              "  <thead>\n",
              "    <tr style=\"text-align: right;\">\n",
              "      <th></th>\n",
              "      <th>Image Index</th>\n",
              "      <th>Finding Labels</th>\n",
              "      <th>Finding Labels2</th>\n",
              "      <th>Atelectasis</th>\n",
              "      <th>Cardiomegaly</th>\n",
              "      <th>Effusion</th>\n",
              "      <th>Infiltration</th>\n",
              "      <th>Mass</th>\n",
              "      <th>No Finding</th>\n",
              "      <th>Nodule</th>\n",
              "      <th>Pneumonia</th>\n",
              "      <th>Pneumothorax</th>\n",
              "    </tr>\n",
              "  </thead>\n",
              "  <tbody>\n",
              "    <tr>\n",
              "      <th>0</th>\n",
              "      <td>00000001_000.png</td>\n",
              "      <td>Cardiomegaly</td>\n",
              "      <td>[Cardiomegaly]</td>\n",
              "      <td>0</td>\n",
              "      <td>1</td>\n",
              "      <td>0</td>\n",
              "      <td>0</td>\n",
              "      <td>0</td>\n",
              "      <td>0</td>\n",
              "      <td>0</td>\n",
              "      <td>0</td>\n",
              "      <td>0</td>\n",
              "    </tr>\n",
              "    <tr>\n",
              "      <th>2</th>\n",
              "      <td>00000001_002.png</td>\n",
              "      <td>Cardiomegaly|Effusion</td>\n",
              "      <td>[Cardiomegaly, Effusion]</td>\n",
              "      <td>0</td>\n",
              "      <td>1</td>\n",
              "      <td>1</td>\n",
              "      <td>0</td>\n",
              "      <td>0</td>\n",
              "      <td>0</td>\n",
              "      <td>0</td>\n",
              "      <td>0</td>\n",
              "      <td>0</td>\n",
              "    </tr>\n",
              "    <tr>\n",
              "      <th>3</th>\n",
              "      <td>00000002_000.png</td>\n",
              "      <td>No Finding</td>\n",
              "      <td>[No Finding]</td>\n",
              "      <td>0</td>\n",
              "      <td>0</td>\n",
              "      <td>0</td>\n",
              "      <td>0</td>\n",
              "      <td>0</td>\n",
              "      <td>1</td>\n",
              "      <td>0</td>\n",
              "      <td>0</td>\n",
              "      <td>0</td>\n",
              "    </tr>\n",
              "    <tr>\n",
              "      <th>12</th>\n",
              "      <td>00000004_000.png</td>\n",
              "      <td>Mass|Nodule</td>\n",
              "      <td>[Mass, Nodule]</td>\n",
              "      <td>0</td>\n",
              "      <td>0</td>\n",
              "      <td>0</td>\n",
              "      <td>0</td>\n",
              "      <td>1</td>\n",
              "      <td>0</td>\n",
              "      <td>1</td>\n",
              "      <td>0</td>\n",
              "      <td>0</td>\n",
              "    </tr>\n",
              "    <tr>\n",
              "      <th>13</th>\n",
              "      <td>00000005_000.png</td>\n",
              "      <td>No Finding</td>\n",
              "      <td>[No Finding]</td>\n",
              "      <td>0</td>\n",
              "      <td>0</td>\n",
              "      <td>0</td>\n",
              "      <td>0</td>\n",
              "      <td>0</td>\n",
              "      <td>1</td>\n",
              "      <td>0</td>\n",
              "      <td>0</td>\n",
              "      <td>0</td>\n",
              "    </tr>\n",
              "  </tbody>\n",
              "</table>\n",
              "</div>"
            ],
            "text/plain": [
              "         Image Index         Finding Labels           Finding Labels2  \\\n",
              "0   00000001_000.png           Cardiomegaly            [Cardiomegaly]   \n",
              "2   00000001_002.png  Cardiomegaly|Effusion  [Cardiomegaly, Effusion]   \n",
              "3   00000002_000.png             No Finding              [No Finding]   \n",
              "12  00000004_000.png            Mass|Nodule            [Mass, Nodule]   \n",
              "13  00000005_000.png             No Finding              [No Finding]   \n",
              "\n",
              "    Atelectasis  Cardiomegaly  Effusion  Infiltration  Mass  No Finding  \\\n",
              "0             0             1         0             0     0           0   \n",
              "2             0             1         1             0     0           0   \n",
              "3             0             0         0             0     0           1   \n",
              "12            0             0         0             0     1           0   \n",
              "13            0             0         0             0     0           1   \n",
              "\n",
              "    Nodule  Pneumonia  Pneumothorax  \n",
              "0        0          0             0  \n",
              "2        0          0             0  \n",
              "3        0          0             0  \n",
              "12       1          0             0  \n",
              "13       0          0             0  "
            ]
          },
          "metadata": {
            "tags": []
          },
          "execution_count": 40
        }
      ]
    },
    {
      "cell_type": "code",
      "metadata": {
        "id": "oXO8oiuaCsKu",
        "colab_type": "code",
        "outputId": "4b7371da-092b-4919-de56-6bac83ddfcd4",
        "colab": {
          "base_uri": "https://localhost:8080/",
          "height": 188
        }
      },
      "source": [
        "for i in data.columns[3:]:\n",
        "    print(i, ':', data[i].value_counts()[1])"
      ],
      "execution_count": 0,
      "outputs": [
        {
          "output_type": "stream",
          "text": [
            "Atelectasis : 9187\n",
            "Cardiomegaly : 2314\n",
            "Effusion : 10306\n",
            "Infiltration : 16421\n",
            "Mass : 4414\n",
            "No Finding : 60361\n",
            "Nodule : 5193\n",
            "Pneumonia : 927\n",
            "Pneumothorax : 4049\n"
          ],
          "name": "stdout"
        }
      ]
    },
    {
      "cell_type": "code",
      "metadata": {
        "id": "5wmiZfd-4nMc",
        "colab_type": "code",
        "colab": {}
      },
      "source": [
        "sample_weights = data['Finding Labels2'].map(lambda x: len(x) if len(x)>0 else 0).values + .1"
      ],
      "execution_count": 0,
      "outputs": []
    },
    {
      "cell_type": "code",
      "metadata": {
        "id": "Om7qxbaO5tXs",
        "colab_type": "code",
        "outputId": "cc131c46-c149-47ed-a9d5-b5d2dbb67f88",
        "colab": {
          "base_uri": "https://localhost:8080/",
          "height": 36
        }
      },
      "source": [
        "# sample_weights"
      ],
      "execution_count": 0,
      "outputs": [
        {
          "output_type": "execute_result",
          "data": {
            "text/plain": [
              "array([1.1, 2.1, 1.1, ..., 1.1, 1.1, 1.1])"
            ]
          },
          "metadata": {
            "tags": []
          },
          "execution_count": 132
        }
      ]
    },
    {
      "cell_type": "code",
      "metadata": {
        "id": "eiO0cWFo584j",
        "colab_type": "code",
        "colab": {}
      },
      "source": [
        "sample_weights /= sample_weights.sum()"
      ],
      "execution_count": 0,
      "outputs": []
    },
    {
      "cell_type": "code",
      "metadata": {
        "id": "bSKEswol5_dl",
        "colab_type": "code",
        "outputId": "c981badc-a211-44b7-dfce-fdb4b0ab3a02",
        "colab": {
          "base_uri": "https://localhost:8080/",
          "height": 55
        }
      },
      "source": [
        "# sample_weights"
      ],
      "execution_count": 0,
      "outputs": [
        {
          "output_type": "execute_result",
          "data": {
            "text/plain": [
              "array([8.94235514e-06, 1.70717689e-05, 8.94235514e-06, ...,\n",
              "       8.94235514e-06, 8.94235514e-06, 8.94235514e-06])"
            ]
          },
          "metadata": {
            "tags": []
          },
          "execution_count": 134
        }
      ]
    },
    {
      "cell_type": "code",
      "metadata": {
        "id": "smDjrdoM6BFa",
        "colab_type": "code",
        "colab": {}
      },
      "source": [
        "data3 = data2.sample(40000, weights=sample_weights)"
      ],
      "execution_count": 0,
      "outputs": []
    },
    {
      "cell_type": "code",
      "metadata": {
        "id": "XRa-f97W6OTx",
        "colab_type": "code",
        "colab": {}
      },
      "source": [
        "for i in n_labels:\n",
        "    print(i, ':', data[i].value_counts()[1])"
      ],
      "execution_count": 0,
      "outputs": []
    },
    {
      "cell_type": "code",
      "metadata": {
        "id": "m9mVcvRkD3-Z",
        "colab_type": "code",
        "colab": {}
      },
      "source": [
        "Nodisease_list = data[(data['Cardiomegaly']==1) | (data['Mass']==1) | (data['Nodule']==1) | (data['Pneumonia']==1) | (data['Pneumothorax']==1)]\n",
        "for i in n_labels:\n",
        "    print(Nodisease_list[i].value_counts())"
      ],
      "execution_count": 0,
      "outputs": []
    },
    {
      "cell_type": "code",
      "metadata": {
        "id": "Lab_9aL8Epjn",
        "colab_type": "code",
        "colab": {}
      },
      "source": [
        "disease_list = data[data['No Finding'] == 1].sample(5000, random_state=0)"
      ],
      "execution_count": 0,
      "outputs": []
    },
    {
      "cell_type": "code",
      "metadata": {
        "id": "BBsoRjUnLHTE",
        "colab_type": "code",
        "colab": {}
      },
      "source": [
        "data_final = pd.concat([disease_list, Nodisease_list], axis=0)\n",
        "data_final.sort_index(inplace=True)"
      ],
      "execution_count": 0,
      "outputs": []
    },
    {
      "cell_type": "code",
      "metadata": {
        "id": "u-gxNvhje_Au",
        "colab_type": "code",
        "colab": {}
      },
      "source": [
        "for i in n_labels:\n",
        "    print(data_final[i].value_counts())"
      ],
      "execution_count": 0,
      "outputs": []
    },
    {
      "cell_type": "code",
      "metadata": {
        "id": "pGVhGhTDwW1M",
        "colab_type": "code",
        "colab": {}
      },
      "source": [
        "X_train, X_test, y_train, y_test = train_test_split(data_final['Image Index'], data_final.iloc[:,3:], \n",
        "                                                    test_size=0.05, random_state=0, stratify=data_final.iloc[:,3:])"
      ],
      "execution_count": 0,
      "outputs": []
    },
    {
      "cell_type": "code",
      "metadata": {
        "id": "H-4FHyUcwbog",
        "colab_type": "code",
        "outputId": "2e9767dc-428b-487d-ae18-b57a39ef6431",
        "colab": {
          "base_uri": "https://localhost:8080/",
          "height": 197
        }
      },
      "source": [
        "data_final.iloc[:,3:].head()"
      ],
      "execution_count": 0,
      "outputs": [
        {
          "output_type": "execute_result",
          "data": {
            "text/html": [
              "<div>\n",
              "<style scoped>\n",
              "    .dataframe tbody tr th:only-of-type {\n",
              "        vertical-align: middle;\n",
              "    }\n",
              "\n",
              "    .dataframe tbody tr th {\n",
              "        vertical-align: top;\n",
              "    }\n",
              "\n",
              "    .dataframe thead th {\n",
              "        text-align: right;\n",
              "    }\n",
              "</style>\n",
              "<table border=\"1\" class=\"dataframe\">\n",
              "  <thead>\n",
              "    <tr style=\"text-align: right;\">\n",
              "      <th></th>\n",
              "      <th>Atelectasis</th>\n",
              "      <th>Cardiomegaly</th>\n",
              "      <th>Effusion</th>\n",
              "      <th>Infiltration</th>\n",
              "      <th>Mass</th>\n",
              "      <th>No Finding</th>\n",
              "      <th>Nodule</th>\n",
              "      <th>Pneumonia</th>\n",
              "      <th>Pneumothorax</th>\n",
              "    </tr>\n",
              "  </thead>\n",
              "  <tbody>\n",
              "    <tr>\n",
              "      <th>0</th>\n",
              "      <td>0</td>\n",
              "      <td>1</td>\n",
              "      <td>0</td>\n",
              "      <td>0</td>\n",
              "      <td>0</td>\n",
              "      <td>0</td>\n",
              "      <td>0</td>\n",
              "      <td>0</td>\n",
              "      <td>0</td>\n",
              "    </tr>\n",
              "    <tr>\n",
              "      <th>2</th>\n",
              "      <td>0</td>\n",
              "      <td>1</td>\n",
              "      <td>1</td>\n",
              "      <td>0</td>\n",
              "      <td>0</td>\n",
              "      <td>0</td>\n",
              "      <td>0</td>\n",
              "      <td>0</td>\n",
              "      <td>0</td>\n",
              "    </tr>\n",
              "    <tr>\n",
              "      <th>12</th>\n",
              "      <td>0</td>\n",
              "      <td>0</td>\n",
              "      <td>0</td>\n",
              "      <td>0</td>\n",
              "      <td>1</td>\n",
              "      <td>0</td>\n",
              "      <td>1</td>\n",
              "      <td>0</td>\n",
              "      <td>0</td>\n",
              "    </tr>\n",
              "    <tr>\n",
              "      <th>23</th>\n",
              "      <td>0</td>\n",
              "      <td>1</td>\n",
              "      <td>0</td>\n",
              "      <td>0</td>\n",
              "      <td>0</td>\n",
              "      <td>0</td>\n",
              "      <td>0</td>\n",
              "      <td>0</td>\n",
              "      <td>0</td>\n",
              "    </tr>\n",
              "    <tr>\n",
              "      <th>25</th>\n",
              "      <td>0</td>\n",
              "      <td>0</td>\n",
              "      <td>0</td>\n",
              "      <td>0</td>\n",
              "      <td>0</td>\n",
              "      <td>0</td>\n",
              "      <td>1</td>\n",
              "      <td>0</td>\n",
              "      <td>0</td>\n",
              "    </tr>\n",
              "  </tbody>\n",
              "</table>\n",
              "</div>"
            ],
            "text/plain": [
              "    Atelectasis  Cardiomegaly  Effusion  Infiltration  Mass  No Finding  \\\n",
              "0             0             1         0             0     0           0   \n",
              "2             0             1         1             0     0           0   \n",
              "12            0             0         0             0     1           0   \n",
              "23            0             1         0             0     0           0   \n",
              "25            0             0         0             0     0           0   \n",
              "\n",
              "    Nodule  Pneumonia  Pneumothorax  \n",
              "0        0          0             0  \n",
              "2        0          0             0  \n",
              "12       1          0             0  \n",
              "23       0          0             0  \n",
              "25       1          0             0  "
            ]
          },
          "metadata": {
            "tags": []
          },
          "execution_count": 181
        }
      ]
    },
    {
      "cell_type": "code",
      "metadata": {
        "id": "jekvRcrgyOjV",
        "colab_type": "code",
        "colab": {}
      },
      "source": [
        ""
      ],
      "execution_count": 0,
      "outputs": []
    }
  ]
}