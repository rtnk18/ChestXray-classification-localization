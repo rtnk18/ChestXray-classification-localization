{
 "cells": [
  {
   "cell_type": "code",
   "execution_count": null,
   "metadata": {
    "colab": {},
    "colab_type": "code",
    "id": "3EWgTlFBqfml"
   },
   "outputs": [],
   "source": [
    "import os, shutil\n",
    "import numpy as np\n",
    "import pandas as pd\n",
    "import matplotlib.pyplot as plt\n",
    "import seaborn as sns; sns.set()\n",
    "\n",
    "from sklearn.model_selection import train_test_split\n",
    "import sklearn.metrics as sm"
   ]
  },
  {
   "cell_type": "markdown",
   "metadata": {
    "colab_type": "text",
    "id": "ReGD3igoqfms"
   },
   "source": [
    "# Data Import"
   ]
  },
  {
   "cell_type": "code",
   "execution_count": null,
   "metadata": {
    "colab": {},
    "colab_type": "code",
    "id": "Ex6hUGrJqfmt"
   },
   "outputs": [],
   "source": [
    "data_list = pd.read_csv('/content/Data_Entry_2017.csv')"
   ]
  },
  {
   "cell_type": "code",
   "execution_count": null,
   "metadata": {
    "colab": {},
    "colab_type": "code",
    "id": "n7J4EFOlqfmv"
   },
   "outputs": [],
   "source": [
    "data_list.head()"
   ]
  },
  {
   "cell_type": "code",
   "execution_count": null,
   "metadata": {
    "colab": {},
    "colab_type": "code",
    "id": "jzQE_lC8qfm1"
   },
   "outputs": [],
   "source": [
    "data_list = data_list.iloc[:, [0,1]]"
   ]
  },
  {
   "cell_type": "code",
   "execution_count": null,
   "metadata": {
    "colab": {},
    "colab_type": "code",
    "id": "lOgkwe_Dqfm3",
    "outputId": "be7f57b4-b4fb-4e03-9676-ec75867d77c5"
   },
   "outputs": [
    {
     "data": {
      "text/html": [
       "<div>\n",
       "<style scoped>\n",
       "    .dataframe tbody tr th:only-of-type {\n",
       "        vertical-align: middle;\n",
       "    }\n",
       "\n",
       "    .dataframe tbody tr th {\n",
       "        vertical-align: top;\n",
       "    }\n",
       "\n",
       "    .dataframe thead th {\n",
       "        text-align: right;\n",
       "    }\n",
       "</style>\n",
       "<table border=\"1\" class=\"dataframe\">\n",
       "  <thead>\n",
       "    <tr style=\"text-align: right;\">\n",
       "      <th></th>\n",
       "      <th>Image Index</th>\n",
       "      <th>Finding Labels</th>\n",
       "    </tr>\n",
       "  </thead>\n",
       "  <tbody>\n",
       "    <tr>\n",
       "      <th>count</th>\n",
       "      <td>86531</td>\n",
       "      <td>86531</td>\n",
       "    </tr>\n",
       "    <tr>\n",
       "      <th>unique</th>\n",
       "      <td>86531</td>\n",
       "      <td>9</td>\n",
       "    </tr>\n",
       "    <tr>\n",
       "      <th>top</th>\n",
       "      <td>00025063_000.png</td>\n",
       "      <td>No Finding</td>\n",
       "    </tr>\n",
       "    <tr>\n",
       "      <th>freq</th>\n",
       "      <td>1</td>\n",
       "      <td>60361</td>\n",
       "    </tr>\n",
       "  </tbody>\n",
       "</table>\n",
       "</div>"
      ],
      "text/plain": [
       "             Image Index Finding Labels\n",
       "count              86531          86531\n",
       "unique             86531              9\n",
       "top     00025063_000.png     No Finding\n",
       "freq                   1          60361"
      ]
     },
     "execution_count": 28,
     "metadata": {
      "tags": []
     },
     "output_type": "execute_result"
    }
   ],
   "source": [
    "data_list.describe()"
   ]
  },
  {
   "cell_type": "markdown",
   "metadata": {
    "colab_type": "text",
    "id": "VbcbTiMZqfm5"
   },
   "source": [
    "# EDA"
   ]
  },
  {
   "cell_type": "code",
   "execution_count": null,
   "metadata": {
    "colab": {},
    "colab_type": "code",
    "id": "hkRxvWBdqfm6"
   },
   "outputs": [],
   "source": [
    "counts = data_list.groupby(['Finding Labels']).agg({'Image Index':'count'})\n",
    "counts.sort_values('Image Index', ascending=False, inplace=True)"
   ]
  },
  {
   "cell_type": "code",
   "execution_count": null,
   "metadata": {
    "colab": {
     "base_uri": "https://localhost:8080/",
     "height": 226
    },
    "colab_type": "code",
    "id": "kn3LoqGWdHhz",
    "outputId": "e7bb5e6e-40b5-4f00-a457-411e4b4554ef"
   },
   "outputs": [],
   "source": [
    "counts = data_list['Finding Labels'].value_counts()[:10]\n",
    "counts.sort_values(ascending=True, inplace=True)\n",
    "counts"
   ]
  },
  {
   "cell_type": "code",
   "execution_count": null,
   "metadata": {
    "colab": {
     "base_uri": "https://localhost:8080/",
     "height": 610
    },
    "colab_type": "code",
    "id": "WCyCQrD9qfm8",
    "outputId": "c7d0b134-f7cd-43e3-d1b3-edec34122c2c"
   },
   "outputs": [
    {
     "data": {
      "image/png": "[encoded data removed]",
      "text/plain": [
       "<Figure size 1152x720 with 1 Axes>"
      ]
     },
     "metadata": {
      "tags": []
     },
     "output_type": "display_data"
    }
   ],
   "source": [
    "plt.figure(figsize=(16,10))\n",
    "plt.barh(y=counts.index, width=counts.values)\n",
    "plt.title('Disease Label Counts')\n",
    "plt.show()"
   ]
  },
  {
   "cell_type": "markdown",
   "metadata": {
    "colab_type": "text",
    "id": "hriR05wmqfm-"
   },
   "source": [
    "# Data Segregation"
   ]
  },
  {
   "cell_type": "code",
   "execution_count": null,
   "metadata": {
    "colab": {},
    "colab_type": "code",
    "id": "p2Wh8Q6bqfm-"
   },
   "outputs": [],
   "source": [
    "disease_list = data_list[data_list['Finding Labels'] != 'No Finding']\n",
    "Nodisease_list = data_list[data_list['Finding Labels'] == 'No Finding'].sample(2000, random_state=0)"
   ]
  },
  {
   "cell_type": "code",
   "execution_count": null,
   "metadata": {
    "colab": {},
    "colab_type": "code",
    "id": "8Rq5sa4NqfnA"
   },
   "outputs": [],
   "source": [
    "data_list = pd.concat([disease_list, Nodisease_list], axis=0)\n",
    "data_list.sort_index(inplace=True)"
   ]
  },
  {
   "cell_type": "code",
   "execution_count": null,
   "metadata": {
    "colab": {},
    "colab_type": "code",
    "id": "xrEWR_rYqfnC",
    "outputId": "32c080e2-2d12-4d77-fc75-586eea1c4936"
   },
   "outputs": [
    {
     "data": {
      "text/plain": [
       "28170"
      ]
     },
     "execution_count": 37,
     "metadata": {
      "tags": []
     },
     "output_type": "execute_result"
    }
   ],
   "source": [
    "len(data_list)"
   ]
  },
  {
   "cell_type": "code",
   "execution_count": null,
   "metadata": {
    "colab": {},
    "colab_type": "code",
    "id": "3cp1GkrrqfnE"
   },
   "outputs": [],
   "source": [
    "X_train, X_test, y_train, y_test = train_test_split(data_list['Image Index'], data_list['Finding Labels'], \n",
    "                                                    test_size=0.05, random_state=0, stratify=data_list['Finding Labels'])"
   ]
  },
  {
   "cell_type": "code",
   "execution_count": null,
   "metadata": {
    "colab": {},
    "colab_type": "code",
    "id": "S-rNkVYzqfnG"
   },
   "outputs": [],
   "source": [
    "data_train = pd.concat([X_train, y_train], axis=1)\n",
    "data_test = pd.concat([X_test, y_test], axis=1)"
   ]
  },
  {
   "cell_type": "markdown",
   "metadata": {
    "colab_type": "text",
    "id": "9KVniEgJqfnI"
   },
   "source": [
    "**Segregating Data**"
   ]
  },
  {
   "cell_type": "code",
   "execution_count": null,
   "metadata": {
    "colab": {},
    "colab_type": "code",
    "id": "biTiF6i8qfnI"
   },
   "outputs": [],
   "source": [
    "original_dataset_dir = '/home/rajat/Documents/Aegis/CAPSTONE/Data - CXR8/Data/images'\n",
    "\n",
    "base_dir = '/home/rajat/Documents/Aegis/CAPSTONE/Data - CXR8/Data/images_small'\n",
    "os.mkdir(base_dir)\n",
    "\n",
    "train_dir = os.path.join(base_dir, 'train')\n",
    "os.mkdir(train_dir)\n",
    "validation_dir = os.path.join(base_dir, 'validation')\n",
    "os.mkdir(validation_dir)"
   ]
  },
  {
   "cell_type": "code",
   "execution_count": null,
   "metadata": {
    "colab": {},
    "colab_type": "code",
    "id": "9qiQ1KTkqfnK"
   },
   "outputs": [],
   "source": [
    "for i in counts.index:\n",
    "    os.mkdir(os.path.join(train_dir, i))\n",
    "    for fname in data_train[data_train['Finding Labels'] == i]['Image Index']:\n",
    "        src = os.path.join(original_dataset_dir, fname)\n",
    "        dst = os.path.join(train_dir+'/'+i, fname)\n",
    "        shutil.copyfile(src, dst)"
   ]
  },
  {
   "cell_type": "code",
   "execution_count": null,
   "metadata": {
    "colab": {},
    "colab_type": "code",
    "id": "V1da9xitqfnN"
   },
   "outputs": [],
   "source": [
    "for i in counts.index:\n",
    "    os.mkdir(os.path.join(validation_dir, i))\n",
    "    for fname in data_test[data_test['Finding Labels'] == i]['Image Index']:\n",
    "        src = os.path.join(original_dataset_dir, fname)\n",
    "        dst = os.path.join(validation_dir+'/'+i, fname)\n",
    "        shutil.copyfile(src, dst)"
   ]
  },
  {
   "cell_type": "markdown",
   "metadata": {
    "colab_type": "text",
    "id": "gPUJAzZD2CuK"
   },
   "source": [
    "# Loading Data in Colab"
   ]
  },
  {
   "cell_type": "code",
   "execution_count": null,
   "metadata": {
    "colab": {
     "base_uri": "https://localhost:8080/",
     "height": 188
    },
    "colab_type": "code",
    "id": "XZb8VRGCKbl7",
    "outputId": "6f96b5b9-9c8d-411b-9654-0795cb8cda56"
   },
   "outputs": [
    {
     "name": "stdout",
     "output_type": "stream",
     "text": [
      "downloading images_01.tar.gz ...\n",
      "downloading images_02.tar.gz ...\n",
      "downloading images_03.tar.gz ...\n",
      "downloading images_04.tar.gz ...\n",
      "downloading images_05.tar.gz ...\n",
      "downloading images_06.tar.gz ...\n",
      "downloading images_07.tar.gz ...\n",
      "downloading images_08.tar.gz ...\n",
      "downloading images_09.tar.gz ...\n"
     ]
    }
   ],
   "source": [
    "# Download the 56 zip files in Images_png in batches\n",
    "import urllib.request, urllib.parse, urllib.error\n",
    "\n",
    "# URLs for the zip files\n",
    "links = [\n",
    "    'https://nihcc.box.com/shared/static/vfk49d74nhbxq3nqjg0900w5nvkorp5c.gz',\n",
    "    'https://nihcc.box.com/shared/static/i28rlmbvmfjbl8p2n3ril0pptcmcu9d1.gz',\n",
    "    'https://nihcc.box.com/shared/static/f1t00wrtdk94satdfb9olcolqx20z2jp.gz',\n",
    "\t'https://nihcc.box.com/shared/static/0aowwzs5lhjrceb3qp67ahp0rd1l1etg.gz',\n",
    "    'https://nihcc.box.com/shared/static/v5e3goj22zr6h8tzualxfsqlqaygfbsn.gz',\n",
    "\t'https://nihcc.box.com/shared/static/asi7ikud9jwnkrnkj99jnpfkjdes7l6l.gz',\n",
    "\t'https://nihcc.box.com/shared/static/jn1b4mw4n6lnh74ovmcjb8y48h8xj07n.gz',\n",
    "    'https://nihcc.box.com/shared/static/tvpxmn7qyrgl0w8wfh9kqfjskv6nmm1j.gz',\n",
    "\t'https://nihcc.box.com/shared/static/upyy3ml7qdumlgk2rfcvlb9k6gvqq2pj.gz',\n",
    "\t'https://nihcc.box.com/shared/static/l6nilvfa9cg3s28tqv1qc1olm3gnz54p.gz',\n",
    "\t'https://nihcc.box.com/shared/static/hhq8fkdgvcari67vfhs7ppg2w6ni4jze.gz',\n",
    "\t'https://nihcc.box.com/shared/static/ioqwiy20ihqwyr8pf4c24eazhh281pbu.gz'\n",
    "]\n",
    "\n",
    "for idx, link in enumerate(links):\n",
    "    fn = 'images_%02d.tar.gz' % (idx+1)\n",
    "    print('downloading', fn, '...')\n",
    "    urllib.request.urlretrieve(link, fn)  # download the zip file\n",
    "print(\"Download complete.\")"
   ]
  },
  {
   "cell_type": "code",
   "execution_count": null,
   "metadata": {
    "colab": {},
    "colab_type": "code",
    "id": "cj8hI2E_Mp-o"
   },
   "outputs": [],
   "source": [
    "import tarfile\n",
    "\n",
    "nums = ['01','02','03','04','05','06','07','08','09','10','11','12']\n",
    "file_names = ['images_{}.tar.gz'.format(x) for x in nums]\n",
    "\n",
    "for idx, file in enumerate(file_names):\n",
    "    with tarfile.open(file, 'r:gz') as tar: \n",
    "        print(idx,': Extracting all the files now...') \n",
    "        tar.extractall() \n",
    "        print(idx,': Done!') "
   ]
  },
  {
   "cell_type": "markdown",
   "metadata": {
    "colab_type": "text",
    "id": "0sevLCQNA3wp"
   },
   "source": [
    "# Data Preprocessing"
   ]
  },
  {
   "cell_type": "code",
   "execution_count": 5,
   "metadata": {
    "colab": {
     "base_uri": "https://localhost:8080/",
     "height": 36
    },
    "colab_type": "code",
    "id": "0dvRi90ONKo5",
    "outputId": "8afe7373-1f74-47dd-b6a5-b238c0619c58"
   },
   "outputs": [
    {
     "name": "stderr",
     "output_type": "stream",
     "text": [
      "Using TensorFlow backend.\n"
     ]
    }
   ],
   "source": [
    "import os, shutil\n",
    "import numpy as np\n",
    "import pandas as pd\n",
    "import matplotlib.pyplot as plt\n",
    "import seaborn as sns; sns.set()\n",
    "\n",
    "from sklearn.model_selection import train_test_split\n",
    "import sklearn.metrics as sm\n",
    "\n",
    "import cv2\n",
    "from keras.preprocessing import image\n",
    "from keras import models\n",
    "from keras import layers\n",
    "from keras import optimizers\n",
    "from keras import backend as K"
   ]
  },
  {
   "cell_type": "markdown",
   "metadata": {
    "colab_type": "text",
    "id": "5YuEB6hcN4Pe"
   },
   "source": [
    "**Initializing data and image directories**"
   ]
  },
  {
   "cell_type": "code",
   "execution_count": null,
   "metadata": {
    "colab": {},
    "colab_type": "code",
    "id": "yP5Pr23qL1W0"
   },
   "outputs": [],
   "source": [
    "data = pd.read_csv('/content/Data_Entry_2017.csv')\n",
    "\n",
    "df_dir = '/content/'\n",
    "img_dir = '/content/images/'"
   ]
  },
  {
   "cell_type": "markdown",
   "metadata": {
    "colab_type": "text",
    "id": "RoHdPhnmOHFO"
   },
   "source": [
    "**Defining functions for data preprocessing and segregation**"
   ]
  },
  {
   "cell_type": "code",
   "execution_count": null,
   "metadata": {
    "colab": {},
    "colab_type": "code",
    "id": "S0QZUh2zG6At"
   },
   "outputs": [],
   "source": [
    "def data_preprocess(data):\n",
    "    \n",
    "    def unknown(x):\n",
    "        \n",
    "        if 'Infiltration' in x.split('|') or x == 'Infiltration':\n",
    "            return 'Infiltration'\n",
    "        elif x == 'No Finding':\n",
    "            return 'No Finding'\n",
    "        else:\n",
    "            return 'Unknown'\n",
    "    \n",
    "    data = data.loc[:,['Image Index','Finding Labels']]\n",
    "    \n",
    "    data['Finding Labels'] = data['Finding Labels'].apply(unknown)\n",
    "\n",
    "    data = data[data['Finding Labels'] != 'Unknown']\n",
    "    data.rename(columns={'Image Index':'images','Finding Labels':'labels'}, \n",
    "                inplace=True)\n",
    "    \n",
    "    return data"
   ]
  },
  {
   "cell_type": "code",
   "execution_count": null,
   "metadata": {
    "colab": {},
    "colab_type": "code",
    "id": "qqBE8EYPmMNt"
   },
   "outputs": [],
   "source": [
    "def get_path(img_name, dir):\n",
    "    return [dir+x for x in img_name]"
   ]
  },
  {
   "cell_type": "code",
   "execution_count": null,
   "metadata": {
    "colab": {},
    "colab_type": "code",
    "id": "stzrh4U9Mdt1"
   },
   "outputs": [],
   "source": [
    "def data_segregation(data):\n",
    "    data = data_preprocess(data)\n",
    "    \n",
    "    data['path'] = get_path(data['images'], img_dir)\n",
    "    \n",
    "    data, data_test = train_test_split(data, test_size=0.1, random_state=0)\n",
    "    \n",
    "    return data, data_test"
   ]
  },
  {
   "cell_type": "code",
   "execution_count": null,
   "metadata": {
    "colab": {},
    "colab_type": "code",
    "id": "d2a-LConMpMo"
   },
   "outputs": [],
   "source": [
    "data2, data_test = data_segregation(data)"
   ]
  },
  {
   "cell_type": "markdown",
   "metadata": {
    "colab_type": "text",
    "id": "4cE19K8FORxB"
   },
   "source": [
    "**Function for listing positive counts of each class**"
   ]
  },
  {
   "cell_type": "code",
   "execution_count": null,
   "metadata": {
    "colab": {},
    "colab_type": "code",
    "id": "YGXy6ueEMykZ"
   },
   "outputs": [],
   "source": [
    "def pos_counts(data):\n",
    "    dis_dict = {}\n",
    "    labels = data.labels.value_counts()\n",
    "    for id, i in enumerate(labels.index):\n",
    "        dis_dict[i] = labels.values[id]\n",
    "        \n",
    "    return dis_dict"
   ]
  },
  {
   "cell_type": "code",
   "execution_count": 12,
   "metadata": {
    "colab": {
     "base_uri": "https://localhost:8080/",
     "height": 36
    },
    "colab_type": "code",
    "id": "OU6OnhzEJAkZ",
    "outputId": "a9ecd03e-e689-4302-a6a9-37b139b56d2c"
   },
   "outputs": [
    {
     "data": {
      "text/plain": [
       "{'Infiltration': 17893, 'No Finding': 54336}"
      ]
     },
     "execution_count": 12,
     "metadata": {
      "tags": []
     },
     "output_type": "execute_result"
    }
   ],
   "source": [
    "dis_dict = pos_counts(data2)\n",
    "dis_dict"
   ]
  },
  {
   "cell_type": "code",
   "execution_count": null,
   "metadata": {
    "colab": {},
    "colab_type": "code",
    "id": "XTeffaEwyghT"
   },
   "outputs": [],
   "source": [
    "cats_list = list(dis_dict.keys())"
   ]
  },
  {
   "cell_type": "markdown",
   "metadata": {
    "colab_type": "text",
    "id": "WtQS-r-dOdNd"
   },
   "source": [
    "**Plotting label counts**"
   ]
  },
  {
   "cell_type": "code",
   "execution_count": null,
   "metadata": {
    "colab": {
     "base_uri": "https://localhost:8080/",
     "height": 338
    },
    "colab_type": "code",
    "id": "OxzeMHH-QLRg",
    "outputId": "2e37035c-8e24-4e76-dc54-b1099789c182"
   },
   "outputs": [
    {
     "data": {
      "image/png": "[encoded data removed]",
      "text/plain": [
       "<Figure size 576x360 with 1 Axes>"
      ]
     },
     "metadata": {
      "tags": []
     },
     "output_type": "display_data"
    }
   ],
   "source": [
    "plt.figure(figsize=(8,5))\n",
    "plt.barh(y=list(dis_dict.keys()), \n",
    "         width=list(dis_dict.values()))\n",
    "plt.title('Disease Label Counts')\n",
    "plt.show()"
   ]
  },
  {
   "cell_type": "markdown",
   "metadata": {
    "colab_type": "text",
    "id": "i9d2UTokqkh9"
   },
   "source": [
    "**Data Augmentation**"
   ]
  },
  {
   "cell_type": "code",
   "execution_count": null,
   "metadata": {
    "colab": {},
    "colab_type": "code",
    "id": "59d0ocgBq2HF"
   },
   "outputs": [],
   "source": [
    "shutil.rmtree('aug_images')\n",
    "os.mkdir('aug_images')"
   ]
  },
  {
   "cell_type": "code",
   "execution_count": null,
   "metadata": {
    "colab": {},
    "colab_type": "code",
    "id": "La-oierDIL1Y"
   },
   "outputs": [],
   "source": [
    "def data_augment(id, label='Infiltration'):    \n",
    "    \n",
    "    print('Generating data for',label)\n",
    "    num=5000\n",
    "    df = data2[data2['labels'] == label]\n",
    "    df_length = len(df)\n",
    "    \n",
    "    cnt = 0\n",
    "    file_name = []\n",
    "    file_label = []\n",
    "    file_path = []\n",
    "    dir = '/content/aug_images/'\n",
    "        \n",
    "    img_gen = image.ImageDataGenerator(horizontal_flip=True,\n",
    "                                       vertical_flip=False,\n",
    "                                       rotation_range=5,\n",
    "                                       shear_range=0.1,\n",
    "                                       fill_mode='reflect',\n",
    "                                       zoom_range=0.15)\n",
    "    \n",
    "    aug_gen = img_gen.flow_from_dataframe(dataframe=df, \n",
    "                                     directory=None, \n",
    "                                     x_col='path',\n",
    "                                     y_col='labels',\n",
    "                                     target_size=(224,224),\n",
    "                                     color_mode='rgb',\n",
    "                                     class_mode='input',\n",
    "                                     batch_size=num, seed=0)\n",
    "\n",
    "    for i in range(3):\n",
    "        \n",
    "        X, Y = next(aug_gen)\n",
    "        \n",
    "        for x, y in zip(X, Y):\n",
    "            img_name = 'a{}_{}.png'.format(id, cnt)\n",
    "            file_name.append(img_name)\n",
    "            file_label.append(label)\n",
    "            file_path.append(dir+img_name)\n",
    "\n",
    "            image.save_img(dir+img_name, x)\n",
    "            cnt += 1\n",
    "        \n",
    "    aug_df = pd.DataFrame({'images':file_name, \n",
    "                           'labels':file_label,\n",
    "                           'path':file_path})\n",
    "    print(len(aug_df),'images generated')\n",
    "    \n",
    "    return aug_df "
   ]
  },
  {
   "cell_type": "code",
   "execution_count": null,
   "metadata": {
    "colab": {
     "base_uri": "https://localhost:8080/",
     "height": 74
    },
    "colab_type": "code",
    "id": "DSuZQYv-qtDA",
    "outputId": "7e4423b9-a1e4-42f8-9a0a-3637a8a34032"
   },
   "outputs": [],
   "source": [
    "dfs = [data_augment(id=1)]"
   ]
  },
  {
   "cell_type": "code",
   "execution_count": null,
   "metadata": {
    "colab": {},
    "colab_type": "code",
    "id": "Hval9MrRclNP"
   },
   "outputs": [],
   "source": [
    "Nodisease_list = data2[data2['labels'] == 'No Finding'].sample(15000, random_state=0)\n",
    "dfs.append(Nodisease_list)"
   ]
  },
  {
   "cell_type": "code",
   "execution_count": null,
   "metadata": {
    "colab": {
     "base_uri": "https://localhost:8080/",
     "height": 74
    },
    "colab_type": "code",
    "id": "gi3pe_8d9DCU",
    "outputId": "cfe97793-a81f-49c7-c44f-9f146d2b6180"
   },
   "outputs": [],
   "source": [
    "data2 = pd.concat(dfs, axis=0)\n",
    "data2.sort_index(inplace=True)\n",
    "data2.labels.value_counts()"
   ]
  },
  {
   "cell_type": "code",
   "execution_count": null,
   "metadata": {
    "colab": {},
    "colab_type": "code",
    "id": "OzHRR7eZjj5B"
   },
   "outputs": [],
   "source": [
    "for i in cats_list:\n",
    "    data2[i] = data2['labels'].map(lambda x: 1. if i == x else 0.)\n",
    "data2.drop('No Finding', axis=1, inplace=True)"
   ]
  },
  {
   "cell_type": "markdown",
   "metadata": {
    "colab_type": "text",
    "id": "xde5GjFLPASe"
   },
   "source": [
    "**Splitting data into train set and validation set**"
   ]
  },
  {
   "cell_type": "code",
   "execution_count": null,
   "metadata": {
    "colab": {},
    "colab_type": "code",
    "id": "YXx0GHNbNfQ6"
   },
   "outputs": [],
   "source": [
    "df_train, df_val = train_test_split(data2, test_size = 0.2, random_state = 0)"
   ]
  },
  {
   "cell_type": "markdown",
   "metadata": {
    "colab_type": "text",
    "id": "ojZruB8OPJwU"
   },
   "source": [
    "**Setting image size**"
   ]
  },
  {
   "cell_type": "code",
   "execution_count": null,
   "metadata": {
    "colab": {},
    "colab_type": "code",
    "id": "LSjHILaVDosY"
   },
   "outputs": [],
   "source": [
    "height = 224\n",
    "width = 224"
   ]
  },
  {
   "cell_type": "markdown",
   "metadata": {
    "colab_type": "text",
    "id": "-8bTwRlLPQ4e"
   },
   "source": [
    "**Generating augmented images in batches for training and validation**"
   ]
  },
  {
   "cell_type": "code",
   "execution_count": null,
   "metadata": {
    "colab": {},
    "colab_type": "code",
    "id": "aZVbeMBYD0gn"
   },
   "outputs": [],
   "source": [
    "img_gen = image.ImageDataGenerator(rescale=1./255.,\n",
    "                                   horizontal_flip=True,\n",
    "                                   vertical_flip=False,\n",
    "                                   rotation_range=20,\n",
    "                                   zoom_range=0.15\n",
    "                                  )"
   ]
  },
  {
   "cell_type": "code",
   "execution_count": 18,
   "metadata": {
    "colab": {
     "base_uri": "https://localhost:8080/",
     "height": 55
    },
    "colab_type": "code",
    "id": "0fKU39lqLX4j",
    "outputId": "0d044c07-7f9a-4ab3-d8db-cbfb627b27b4"
   },
   "outputs": [
    {
     "name": "stdout",
     "output_type": "stream",
     "text": [
      "Found 57783 images belonging to 2 classes.\n",
      "Found 14446 images belonging to 2 classes.\n"
     ]
    }
   ],
   "source": [
    "train_gen = img_gen.flow_from_dataframe(dataframe=df_train, \n",
    "                                        directory=None, \n",
    "                                        x_col='path',\n",
    "                                        y_col='labels',\n",
    "                                        target_size=(height,width),\n",
    "                                        color_mode='rgb',\n",
    "                                        class_mode='binary',\n",
    "                                        batch_size=32, seed=0)\n",
    "\n",
    "val_gen = img_gen.flow_from_dataframe(dataframe=df_val, \n",
    "                                        directory=None, \n",
    "                                        x_col='path',\n",
    "                                        y_col='labels',\n",
    "                                        target_size=(height,width),\n",
    "                                        color_mode='rgb',\n",
    "                                        class_mode='binary',\n",
    "                                        batch_size=64, seed=0)"
   ]
  },
  {
   "cell_type": "markdown",
   "metadata": {
    "colab_type": "text",
    "id": "QJIk9_8SBIlW"
   },
   "source": [
    "# Model Building for Multi-Label Classification"
   ]
  },
  {
   "cell_type": "markdown",
   "metadata": {
    "colab_type": "text",
    "id": "METhqayeVQA5"
   },
   "source": [
    "**Calculating class weights**"
   ]
  },
  {
   "cell_type": "code",
   "execution_count": 19,
   "metadata": {
    "colab": {
     "base_uri": "https://localhost:8080/",
     "height": 36
    },
    "colab_type": "code",
    "id": "65zuY8ZNVAzp",
    "outputId": "78870595-7a24-42e4-8478-9d8ba3d609bf"
   },
   "outputs": [
    {
     "data": {
      "text/plain": [
       "[2.0183591348572065, 0.6646514281507656]"
      ]
     },
     "execution_count": 19,
     "metadata": {
      "tags": []
     },
     "output_type": "execute_result"
    }
   ],
   "source": [
    "from sklearn.utils.class_weight import compute_class_weight\n",
    "\n",
    "uni = data2['labels'].unique()\n",
    "uni.sort()\n",
    "weights = list(compute_class_weight('balanced', uni, data2['labels']))\n",
    "weights"
   ]
  },
  {
   "cell_type": "code",
   "execution_count": null,
   "metadata": {
    "colab": {
     "base_uri": "https://localhost:8080/",
     "height": 151
    },
    "colab_type": "code",
    "id": "MfGYOk6Zjq8N",
    "outputId": "6da33349-deae-4211-b46c-afa191e8d3e8"
   },
   "outputs": [],
   "source": [
    "input_img = models.Input(shape=(224,224,3), name='ImageInput')\n",
    "x = layers.Conv2D(64, (3,3), activation='relu', padding='same', name='Conv1_1')(input_img)\n",
    "x = layers.Conv2D(64, (3,3), activation='relu', padding='same', name='Conv1_2')(x)\n",
    "x = layers.MaxPooling2D((2,2), name='pool1')(x)\n",
    "\n",
    "x = layers.SeparableConv2D(128, (3,3), activation='relu', padding='same', name='Conv2_1')(x)\n",
    "x = layers.SeparableConv2D(128, (3,3), activation='relu', padding='same', name='Conv2_2')(x)\n",
    "x = layers.MaxPooling2D((2,2), name='pool2')(x)\n",
    "\n",
    "x = layers.SeparableConv2D(256, (3,3), activation='relu', padding='same', name='Conv3_1')(x)\n",
    "x = layers.BatchNormalization(name='bn1')(x)\n",
    "x = layers.SeparableConv2D(256, (3,3), activation='relu', padding='same', name='Conv3_2')(x)\n",
    "x = layers.BatchNormalization(name='bn2')(x)\n",
    "x = layers.SeparableConv2D(256, (3,3), activation='relu', padding='same', name='Conv3_3')(x)\n",
    "x = layers.MaxPooling2D((2,2), name='pool3')(x)\n",
    "\n",
    "x = layers.SeparableConv2D(512, (3,3), activation='relu', padding='same', name='Conv4_1')(x)\n",
    "x = layers.BatchNormalization(name='bn3')(x)\n",
    "x = layers.SeparableConv2D(512, (3,3), activation='relu', padding='same', name='Conv4_2')(x)\n",
    "x = layers.BatchNormalization(name='bn4')(x)\n",
    "x = layers.SeparableConv2D(512, (3,3), activation='relu', padding='same', name='Conv4_3')(x)\n",
    "x = layers.MaxPooling2D((2,2), name='pool4')(x)\n",
    "\n",
    "x = layers.Flatten(name='flatten')(x)\n",
    "x = layers.Dense(1024, activation='relu', name='fc1')(x)\n",
    "x = layers.Dropout(0.7, name='dropout1')(x)\n",
    "x = layers.Dense(512, activation='relu', name='fc2')(x)\n",
    "x = layers.Dropout(0.5, name='dropout2')(x)\n",
    "x = layers.Dense(2, activation='softmax', name='fc3')(x)\n",
    "\n",
    "model = models.Model(inputs=input_img, outputs=x)"
   ]
  },
  {
   "cell_type": "code",
   "execution_count": null,
   "metadata": {
    "colab": {},
    "colab_type": "code",
    "id": "mSNOeZ_TkGzK"
   },
   "outputs": [],
   "source": [
    "model.load_weights('best_model.hdf5')"
   ]
  },
  {
   "cell_type": "markdown",
   "metadata": {
    "colab_type": "text",
    "id": "RHdNeZ94UeMW"
   },
   "source": [
    "**Freezing the layers in base**"
   ]
  },
  {
   "cell_type": "code",
   "execution_count": null,
   "metadata": {
    "colab": {},
    "colab_type": "code",
    "id": "fl1zn6BrQNvJ"
   },
   "outputs": [],
   "source": [
    "for i in range(len(model.layers)):\n",
    "    model.layers[i].trainable = False"
   ]
  },
  {
   "cell_type": "markdown",
   "metadata": {
    "colab_type": "text",
    "id": "QOv1xSbLUX6l"
   },
   "source": [
    "**Adding our top layers**"
   ]
  },
  {
   "cell_type": "code",
   "execution_count": null,
   "metadata": {
    "colab": {},
    "colab_type": "code",
    "id": "w1V1_FClQWKw"
   },
   "outputs": [],
   "source": [
    "x = layers.SeparableConv2D(512, (3,3), activation='relu', padding='same', name='Conv4_1')(model.layers[-13].output)\n",
    "x = layers.BatchNormalization(name='bn3')(x)\n",
    "x = layers.SeparableConv2D(512, (3,3), activation='relu', padding='same', name='Conv4_2')(x)\n",
    "x = layers.BatchNormalization(name='bn4')(x)\n",
    "x = layers.SeparableConv2D(512, (3,3), activation='relu', padding='same', name='Conv4_3')(x)\n",
    "\n",
    "x = layers.GlobalAveragePooling2D()(x)\n",
    "x = layers.Dense(1, activation='sigmoid', name='fc_out')(x)\n",
    "\n",
    "model = models.Model(inputs=model.input, outputs=x)"
   ]
  },
  {
   "cell_type": "code",
   "execution_count": null,
   "metadata": {
    "colab": {
     "base_uri": "https://localhost:8080/",
     "height": 169
    },
    "colab_type": "code",
    "id": "ZAKGG60kuXVj",
    "outputId": "6f961577-d7fa-4e2f-b97b-65a28ba62b4c"
   },
   "outputs": [],
   "source": [
    "!kaggle datasets download -d keras/vgg16\n",
    "!unzip vgg16.zip"
   ]
  },
  {
   "cell_type": "code",
   "execution_count": null,
   "metadata": {
    "colab": {},
    "colab_type": "code",
    "id": "0b_yXtoxt20A"
   },
   "outputs": [],
   "source": [
    "import h5py\n",
    "\n",
    "f = h5py.File('vgg16_weights_tf_dim_ordering_tf_kernels_notop.h5', 'r')\n",
    "\n",
    "w,b = f['block1_conv1']['block1_conv1_W_1:0'], f['block1_conv1']['block1_conv1_b_1:0']\n",
    "model.layers[2].set_weights = [w,b]\n",
    "\n",
    "w,b = f['block1_conv2']['block1_conv2_W_1:0'], f['block1_conv2']['block1_conv2_b_1:0']\n",
    "model.layers[4].set_weights = [w,b]\n",
    "\n",
    "w,b = f['block2_conv1']['block2_conv1_W_1:0'], f['block2_conv1']['block2_conv1_b_1:0']\n",
    "model.layers[7].set_weights = [w,b]\n",
    "\n",
    "w,b = f['block2_conv2']['block2_conv2_W_1:0'], f['block2_conv2']['block2_conv2_b_1:0']\n",
    "model.layers[8].set_weights = [w,b]\n",
    "\n",
    "f.close()"
   ]
  },
  {
   "cell_type": "markdown",
   "metadata": {
    "colab_type": "text",
    "id": "hsuixwlkUmB2"
   },
   "source": [
    "**Loading our saved model to resume training**"
   ]
  },
  {
   "cell_type": "code",
   "execution_count": 65,
   "metadata": {
    "colab": {
     "base_uri": "https://localhost:8080/",
     "height": 1917
    },
    "colab_type": "code",
    "id": "Wddclo5IQXMr",
    "outputId": "5cd07e1f-c8bb-4f74-a4da-05d0e991e2d7"
   },
   "outputs": [
    {
     "name": "stdout",
     "output_type": "stream",
     "text": [
      "__________________________________________________________________________________________________\n",
      "Layer (type)                    Output Shape         Param #     Connected to                     \n",
      "==================================================================================================\n",
      "ImageInput (InputLayer)         (None, 224, 224, 3)  0                                            \n",
      "__________________________________________________________________________________________________\n",
      "Conv1_1 (Conv2D)                (None, 224, 224, 64) 1792        ImageInput[0][0]                 \n",
      "__________________________________________________________________________________________________\n",
      "activation1_1 (Activation)      (None, 224, 224, 64) 0           Conv1_1[0][0]                    \n",
      "__________________________________________________________________________________________________\n",
      "Conv1_2 (Conv2D)                (None, 224, 224, 64) 36928       activation1_1[0][0]              \n",
      "__________________________________________________________________________________________________\n",
      "activation1_2 (Activation)      (None, 224, 224, 64) 0           Conv1_2[0][0]                    \n",
      "__________________________________________________________________________________________________\n",
      "pool1 (MaxPooling2D)            (None, 112, 112, 64) 0           activation1_2[0][0]              \n",
      "__________________________________________________________________________________________________\n",
      "Conv2_1 (SeparableConv2D)       (None, 112, 112, 128 8896        pool1[0][0]                      \n",
      "__________________________________________________________________________________________________\n",
      "activation2_1 (Activation)      (None, 112, 112, 128 0           Conv2_1[0][0]                    \n",
      "__________________________________________________________________________________________________\n",
      "Conv2_2 (SeparableConv2D)       (None, 112, 112, 128 17664       activation2_1[0][0]              \n",
      "__________________________________________________________________________________________________\n",
      "concatenate_5 (Concatenate)     (None, 112, 112, 192 0           Conv2_2[0][0]                    \n",
      "                                                                 pool1[0][0]                      \n",
      "__________________________________________________________________________________________________\n",
      "activation_6 (Activation)       (None, 112, 112, 192 0           concatenate_5[0][0]              \n",
      "__________________________________________________________________________________________________\n",
      "pool2 (MaxPooling2D)            (None, 56, 56, 192)  0           activation_6[0][0]               \n",
      "__________________________________________________________________________________________________\n",
      "Conv3_1 (SeparableConv2D)       (None, 56, 56, 256)  51136       pool2[0][0]                      \n",
      "__________________________________________________________________________________________________\n",
      "bn1 (BatchNormalization)        (None, 56, 56, 256)  1024        Conv3_1[0][0]                    \n",
      "__________________________________________________________________________________________________\n",
      "activation3_1 (Activation)      (None, 56, 56, 256)  0           bn1[0][0]                        \n",
      "__________________________________________________________________________________________________\n",
      "Conv3_2 (SeparableConv2D)       (None, 56, 56, 256)  68096       activation3_1[0][0]              \n",
      "__________________________________________________________________________________________________\n",
      "bn2 (BatchNormalization)        (None, 56, 56, 256)  1024        Conv3_2[0][0]                    \n",
      "__________________________________________________________________________________________________\n",
      "activation3_2 (Activation)      (None, 56, 56, 256)  0           bn2[0][0]                        \n",
      "__________________________________________________________________________________________________\n",
      "Conv3_3 (SeparableConv2D)       (None, 56, 56, 256)  68096       activation3_2[0][0]              \n",
      "__________________________________________________________________________________________________\n",
      "concatenate_6 (Concatenate)     (None, 56, 56, 448)  0           Conv3_3[0][0]                    \n",
      "                                                                 pool2[0][0]                      \n",
      "__________________________________________________________________________________________________\n",
      "bn3 (BatchNormalization)        (None, 56, 56, 448)  1792        concatenate_6[0][0]              \n",
      "__________________________________________________________________________________________________\n",
      "activation_7 (Activation)       (None, 56, 56, 448)  0           bn3[0][0]                        \n",
      "__________________________________________________________________________________________________\n",
      "pool3 (MaxPooling2D)            (None, 28, 28, 448)  0           activation_7[0][0]               \n",
      "__________________________________________________________________________________________________\n",
      "Conv4_1 (SeparableConv2D)       (None, 28, 28, 512)  233920      pool3[0][0]                      \n",
      "__________________________________________________________________________________________________\n",
      "bn4 (BatchNormalization)        (None, 28, 28, 512)  2048        Conv4_1[0][0]                    \n",
      "__________________________________________________________________________________________________\n",
      "activation4_1 (Activation)      (None, 28, 28, 512)  0           bn4[0][0]                        \n",
      "__________________________________________________________________________________________________\n",
      "Conv4_2 (SeparableConv2D)       (None, 28, 28, 512)  267264      activation4_1[0][0]              \n",
      "__________________________________________________________________________________________________\n",
      "bn5 (BatchNormalization)        (None, 28, 28, 512)  2048        Conv4_2[0][0]                    \n",
      "__________________________________________________________________________________________________\n",
      "activation4_2 (Activation)      (None, 28, 28, 512)  0           bn5[0][0]                        \n",
      "__________________________________________________________________________________________________\n",
      "Conv4_3 (SeparableConv2D)       (None, 28, 28, 512)  267264      activation4_2[0][0]              \n",
      "__________________________________________________________________________________________________\n",
      "concatenate_7 (Concatenate)     (None, 28, 28, 960)  0           Conv4_3[0][0]                    \n",
      "                                                                 pool3[0][0]                      \n",
      "__________________________________________________________________________________________________\n",
      "bn6 (BatchNormalization)        (None, 28, 28, 960)  3840        concatenate_7[0][0]              \n",
      "__________________________________________________________________________________________________\n",
      "activation_8 (Activation)       (None, 28, 28, 960)  0           bn6[0][0]                        \n",
      "__________________________________________________________________________________________________\n",
      "pool4 (MaxPooling2D)            (None, 14, 14, 960)  0           activation_8[0][0]               \n",
      "__________________________________________________________________________________________________\n",
      "Conv5_1 (SeparableConv2D)       (None, 14, 14, 1024) 992704      pool4[0][0]                      \n",
      "__________________________________________________________________________________________________\n",
      "bn7 (BatchNormalization)        (None, 14, 14, 1024) 4096        Conv5_1[0][0]                    \n",
      "__________________________________________________________________________________________________\n",
      "activation5_1 (Activation)      (None, 14, 14, 1024) 0           bn7[0][0]                        \n",
      "__________________________________________________________________________________________________\n",
      "Conv5_2 (SeparableConv2D)       (None, 14, 14, 1024) 1058816     activation5_1[0][0]              \n",
      "__________________________________________________________________________________________________\n",
      "bn8 (BatchNormalization)        (None, 14, 14, 1024) 4096        Conv5_2[0][0]                    \n",
      "__________________________________________________________________________________________________\n",
      "activation5_2 (Activation)      (None, 14, 14, 1024) 0           bn8[0][0]                        \n",
      "__________________________________________________________________________________________________\n",
      "Conv5_3 (SeparableConv2D)       (None, 14, 14, 1024) 1058816     activation5_2[0][0]              \n",
      "__________________________________________________________________________________________________\n",
      "bn9 (BatchNormalization)        (None, 14, 14, 1024) 4096        Conv5_3[0][0]                    \n",
      "__________________________________________________________________________________________________\n",
      "activation5_3 (Activation)      (None, 14, 14, 1024) 0           bn9[0][0]                        \n",
      "__________________________________________________________________________________________________\n",
      "global_average_pooling2d_2 (Glo (None, 1024)         0           activation5_3[0][0]              \n",
      "__________________________________________________________________________________________________\n",
      "fc_out (Dense)                  (None, 1)            1025        global_average_pooling2d_2[0][0] \n",
      "==================================================================================================\n",
      "Total params: 4,156,481\n",
      "Trainable params: 4,144,449\n",
      "Non-trainable params: 12,032\n",
      "__________________________________________________________________________________________________\n"
     ]
    }
   ],
   "source": [
    "model.summary()"
   ]
  },
  {
   "cell_type": "markdown",
   "metadata": {
    "colab_type": "text",
    "id": "paz_7rsQUuoY"
   },
   "source": [
    "**Initializing callbacks**"
   ]
  },
  {
   "cell_type": "code",
   "execution_count": null,
   "metadata": {
    "colab": {},
    "colab_type": "code",
    "id": "sFU0fwdH6_pU"
   },
   "outputs": [],
   "source": [
    "from keras.callbacks import ModelCheckpoint, EarlyStopping\n",
    "weight_path=\"best_weights_{val_loss:.4f}.hdf5\"\n",
    "\n",
    "checkpoint = ModelCheckpoint(weight_path, \n",
    "                             monitor='val_loss', \n",
    "                             verbose=1, \n",
    "                             save_best_only=True, \n",
    "                             mode='min', \n",
    "                             save_weights_only = True)\n",
    "\n",
    "early_stop = EarlyStopping(monitor=\"val_loss\", \n",
    "                           mode=\"min\", \n",
    "                           patience=20)"
   ]
  },
  {
   "cell_type": "code",
   "execution_count": null,
   "metadata": {
    "colab": {},
    "colab_type": "code",
    "id": "3oUqQJekLi93"
   },
   "outputs": [],
   "source": [
    "def get_weighted_loss(weights):\n",
    "    def weighted_loss(y_true, y_pred):\n",
    "        return K.mean((weights[1]**(1-y_true))*(weights[0]**(y_true))*K.binary_crossentropy(y_true, y_pred), axis=-1)\n",
    "    return weighted_loss"
   ]
  },
  {
   "cell_type": "code",
   "execution_count": null,
   "metadata": {
    "colab": {},
    "colab_type": "code",
    "id": "F6fZwHsu2OrA"
   },
   "outputs": [],
   "source": [
    "model.compile(optimizer=optimizers.Adam(lr=0.001, decay=1e-5),\n",
    "              loss=get_weighted_loss(weights),\n",
    "              metrics=['acc'])"
   ]
  },
  {
   "cell_type": "code",
   "execution_count": null,
   "metadata": {
    "colab": {
     "base_uri": "https://localhost:8080/",
     "height": 563
    },
    "colab_type": "code",
    "id": "hqxNszB62YwK",
    "outputId": "4399a4f2-4326-4058-d4be-b4285164b3c8"
   },
   "outputs": [],
   "source": [
    "history = model.fit_generator(train_gen, \n",
    "                              steps_per_epoch=len(df_train)/(train_gen.batch_size*4),\n",
    "                              validation_data=val_gen,\n",
    "                              validation_steps=len(df_val)/(val_gen.batch_size*4),\n",
    "                              epochs=3,\n",
    "                              callbacks=[checkpoint])"
   ]
  },
  {
   "cell_type": "code",
   "execution_count": null,
   "metadata": {
    "colab": {
     "base_uri": "https://localhost:8080/",
     "height": 551
    },
    "colab_type": "code",
    "id": "T-ChwprOyvGu",
    "outputId": "b29e4540-4b82-46b7-c9b2-fa492f8df6b5"
   },
   "outputs": [
    {
     "data": {
      "image/png": "[encoded data removed]",
      "text/plain": [
       "<Figure size 432x288 with 1 Axes>"
      ]
     },
     "metadata": {
      "tags": []
     },
     "output_type": "display_data"
    },
    {
     "data": {
      "image/png": "[encoded data removed]",
      "text/plain": [
       "<Figure size 432x288 with 1 Axes>"
      ]
     },
     "metadata": {
      "tags": []
     },
     "output_type": "display_data"
    }
   ],
   "source": [
    "acc = history.history['acc']\n",
    "val_acc = history.history['val_acc']\n",
    "loss = history.history['loss']\n",
    "val_loss = history.history['val_loss']\n",
    "\n",
    "epochs = range(len(acc))\n",
    "\n",
    "plt.plot(epochs, acc, 'b', label='Training acc')\n",
    "plt.plot(epochs, val_acc, 'b', label='Validation acc')\n",
    "plt.title('Training and validation accuracy')\n",
    "plt.legend()\n",
    "\n",
    "plt.figure()\n",
    "\n",
    "plt.plot(epochs, loss, 'bo', label='Training loss')\n",
    "plt.plot(epochs, val_loss, 'b', label='Validation loss')\n",
    "plt.title('Training and validation loss')\n",
    "plt.legend()\n",
    "\n",
    "plt.show()"
   ]
  },
  {
   "cell_type": "markdown",
   "metadata": {
    "colab_type": "text",
    "id": "7eRVFEjzBWnh"
   },
   "source": [
    "# Model Performance Validation"
   ]
  },
  {
   "cell_type": "code",
   "execution_count": null,
   "metadata": {
    "colab": {},
    "colab_type": "code",
    "id": "0iihTelY5hh3"
   },
   "outputs": [],
   "source": [
    "model.save('model_latest.h5')"
   ]
  },
  {
   "cell_type": "code",
   "execution_count": 31,
   "metadata": {
    "colab": {
     "base_uri": "https://localhost:8080/",
     "height": 36
    },
    "colab_type": "code",
    "id": "Hi7h_NBg1h9S",
    "outputId": "392205d1-e61d-4123-f7ac-7d82dfcdf7e3"
   },
   "outputs": [
    {
     "name": "stdout",
     "output_type": "stream",
     "text": [
      "Found 8026 images belonging to 2 classes.\n"
     ]
    }
   ],
   "source": [
    "test_gen = img_gen.flow_from_dataframe(dataframe=data_test, \n",
    "                                        directory=None, \n",
    "                                        x_col='path',\n",
    "                                        y_col='labels',\n",
    "                                        target_size=(height,width),\n",
    "                                        color_mode='rgb',\n",
    "                                        class_mode='binary',\n",
    "                                        #classes=cats_list,\n",
    "                                        batch_size=4096, seed=0)"
   ]
  },
  {
   "cell_type": "code",
   "execution_count": null,
   "metadata": {
    "colab": {},
    "colab_type": "code",
    "id": "AfxJ5hqF2njL"
   },
   "outputs": [],
   "source": [
    "X_test, Y_test = next(test_gen)"
   ]
  },
  {
   "cell_type": "code",
   "execution_count": 38,
   "metadata": {
    "colab": {
     "base_uri": "https://localhost:8080/",
     "height": 36
    },
    "colab_type": "code",
    "id": "jkpdKwej2PN3",
    "outputId": "bb14ba83-4833-4268-d6f6-0cc62c68cf0c"
   },
   "outputs": [
    {
     "name": "stdout",
     "output_type": "stream",
     "text": [
      "4096/4096 [==============================] - 19s 5ms/step\n"
     ]
    }
   ],
   "source": [
    "test_pred_y = model.predict(X_test, batch_size=32, verbose=True)"
   ]
  },
  {
   "cell_type": "code",
   "execution_count": 39,
   "metadata": {
    "colab": {
     "base_uri": "https://localhost:8080/",
     "height": 582
    },
    "colab_type": "code",
    "id": "Y61thmqz3CbC",
    "outputId": "fda82eb8-14b8-41bf-c057-3a7edcf147d1"
   },
   "outputs": [
    {
     "data": {
      "text/plain": [
       "Text(0, 0.5, 'True Positive Rate')"
      ]
     },
     "execution_count": 39,
     "metadata": {
      "tags": []
     },
     "output_type": "execute_result"
    },
    {
     "data": {
      "image/png": "[encoded data removed]",
      "text/plain": [
       "<Figure size 648x648 with 1 Axes>"
      ]
     },
     "metadata": {
      "tags": []
     },
     "output_type": "display_data"
    }
   ],
   "source": [
    "from sklearn.metrics import roc_curve, auc\n",
    "fig, c_ax = plt.subplots(1,1, figsize = (9, 9))\n",
    "\n",
    "fpr, tpr, thresholds = roc_curve(Y_test.astype(int), test_pred_y[:,0])\n",
    "c_ax.plot(fpr, tpr, label = '%s (AUC:%0.2f)'  % ('Infiltration', auc(fpr, tpr)))\n",
    "c_ax.legend()\n",
    "c_ax.set_xlabel('False Positive Rate')\n",
    "c_ax.set_ylabel('True Positive Rate')"
   ]
  },
  {
   "cell_type": "markdown",
   "metadata": {
    "colab_type": "text",
    "id": "4VpuVpJ34Esx"
   },
   "source": [
    "# Generating CAMs"
   ]
  },
  {
   "cell_type": "code",
   "execution_count": null,
   "metadata": {
    "colab": {},
    "colab_type": "code",
    "id": "DsI6ehOP4JRR"
   },
   "outputs": [],
   "source": [
    "from keras.applications.densenet import preprocess_input\n",
    "from matplotlib.patches import Rectangle"
   ]
  },
  {
   "cell_type": "code",
   "execution_count": null,
   "metadata": {
    "colab": {},
    "colab_type": "code",
    "id": "1Ke2cat_i1ex"
   },
   "outputs": [],
   "source": [
    "bbox_data = pd.read_csv('/content/BBox_List_2017.csv')\n",
    "bbox_data = bbox_data.loc[:,:'h]']"
   ]
  },
  {
   "cell_type": "code",
   "execution_count": null,
   "metadata": {
    "colab": {},
    "colab_type": "code",
    "id": "K2xRKlXk33dN"
   },
   "outputs": [],
   "source": [
    "bbox_data.rename(columns={'Bbox [x':'x', \n",
    "                     'h]':'h',\n",
    "                     'Image Index':'images',\n",
    "                     'Finding Label':'labels'}, \n",
    "            inplace=True)"
   ]
  },
  {
   "cell_type": "code",
   "execution_count": null,
   "metadata": {
    "colab": {},
    "colab_type": "code",
    "id": "AOtPYEFQ37xq"
   },
   "outputs": [],
   "source": [
    "def plot_bbox(img):\n",
    "    img_path = '/content/images/'+img\n",
    "    row = bbox_data[bbox_data.images == img]\n",
    "    plt.figure()\n",
    "    plt.imshow(cv2.imread(img_path))\n",
    "    rect = Rectangle((row.x.values[0],row.y.values[0]), \n",
    "                     row.w.values[0], row.h.values[0], \n",
    "                     fill=False, color='red')\n",
    "    plt.axes().add_patch(rect)\n",
    "    plt.grid(False)\n",
    "    plt.xticks([])\n",
    "    plt.yticks([])\n",
    "    plt.show()"
   ]
  },
  {
   "cell_type": "code",
   "execution_count": 69,
   "metadata": {
    "colab": {
     "base_uri": "https://localhost:8080/",
     "height": 337
    },
    "colab_type": "code",
    "id": "iU_6u3W2658d",
    "outputId": "e7ff3c15-4703-4048-83be-d240866010e9"
   },
   "outputs": [
    {
     "name": "stderr",
     "output_type": "stream",
     "text": [
      "/usr/local/lib/python3.6/dist-packages/matplotlib/figure.py:98: MatplotlibDeprecationWarning: \n",
      "Adding an axes using the same arguments as a previous axes currently reuses the earlier instance.  In a future version, a new instance will always be created and returned.  Meanwhile, this warning can be suppressed, and the future behavior ensured, by passing a unique label to each axes instance.\n",
      "  \"Adding an axes using the same arguments as a previous axes \"\n"
     ]
    },
    {
     "data": {
      "image/png": "[encoded data removed]",
      "text/plain": [
       "<Figure size 432x288 with 1 Axes>"
      ]
     },
     "metadata": {
      "tags": []
     },
     "output_type": "display_data"
    }
   ],
   "source": [
    "im = '00028640_008.png'\n",
    "plot_bbox(im)\n",
    "img_path = '/content/images/'+im"
   ]
  },
  {
   "cell_type": "code",
   "execution_count": 70,
   "metadata": {
    "colab": {
     "base_uri": "https://localhost:8080/",
     "height": 36
    },
    "colab_type": "code",
    "id": "f-JoHHwdXLv_",
    "outputId": "55e1b1bf-f095-49b2-bd31-8aa0e723a517"
   },
   "outputs": [
    {
     "name": "stdout",
     "output_type": "stream",
     "text": [
      "[0.6743338]\n"
     ]
    }
   ],
   "source": [
    "img = image.load_img(img_path, target_size=(224, 224))\n",
    "x = image.img_to_array(img)\n",
    "x = np.expand_dims(x, axis=0)\n",
    "x = preprocess_input(x)\n",
    "\n",
    "preds = model.predict(x)\n",
    "preds = list(preds.flatten())\n",
    "print(preds)\n",
    "class_idx = np.argmax(preds)\n",
    "class_output = model.output[:, class_idx]\n",
    "last_conv_layer = model.get_layer('activation5_3')\n",
    "\n",
    "grads = K.gradients(class_output, last_conv_layer.output)[0]\n",
    "pooled_grads = K.mean(grads, axis=(0, 1, 2))\n",
    "iterate = K.function([model.input], [pooled_grads, last_conv_layer.output[0]])\n",
    "pooled_grads_value, conv_layer_output_value = iterate([x])\n",
    "for i in range(1024):\n",
    "    conv_layer_output_value[:, :, i] *= pooled_grads_value[i]"
   ]
  },
  {
   "cell_type": "code",
   "execution_count": null,
   "metadata": {
    "colab": {},
    "colab_type": "code",
    "id": "AVkCaDNA7pGi"
   },
   "outputs": [],
   "source": [
    "heatmap = np.mean(conv_layer_output_value, axis=-1)\n",
    "heatmap = np.maximum(heatmap, 0)\n",
    "heatmap /= np.max(heatmap)\n",
    "\n",
    "img = cv2.imread(img_path,)\n",
    "img = cv2.resize(img,(256, 256))\n",
    "heatmap = cv2.resize(heatmap, (256, 256))\n",
    "heatmap = np.uint8(255 * heatmap)\n",
    "heatmap = cv2.applyColorMap(heatmap, cv2.COLORMAP_JET)\n",
    "superimposed_img = cv2.addWeighted(img, 0.6, heatmap, 0.4, 0)"
   ]
  },
  {
   "cell_type": "code",
   "execution_count": 72,
   "metadata": {
    "colab": {
     "base_uri": "https://localhost:8080/",
     "height": 273
    },
    "colab_type": "code",
    "id": "MnsEEhb-7tnl",
    "outputId": "04121106-58ff-4fe9-82ee-cc1172b0ec61"
   },
   "outputs": [
    {
     "data": {
      "image/png": "[encoded data removed]",
      "text/plain": [
       "<PIL.Image.Image image mode=RGB size=256x256 at 0x7F6C65788860>"
      ]
     },
     "metadata": {
      "tags": []
     },
     "output_type": "display_data"
    }
   ],
   "source": [
    "from google.colab.patches import cv2_imshow\n",
    "cv2_imshow(superimposed_img)"
   ]
  }
 ],
 "metadata": {
  "accelerator": "GPU",
  "colab": {
   "collapsed_sections": [
    "ReGD3igoqfms",
    "VbcbTiMZqfm5",
    "hriR05wmqfm-",
    "bp3O2bPtiPoh"
   ],
   "name": "Capstone_single_test.ipynb",
   "provenance": [],
   "version": "0.3.2"
  },
  "kernelspec": {
   "display_name": "Python 3",
   "language": "python",
   "name": "python3"
  },
  "language_info": {
   "codemirror_mode": {
    "name": "ipython",
    "version": 3
   },
   "file_extension": ".py",
   "mimetype": "text/x-python",
   "name": "python",
   "nbconvert_exporter": "python",
   "pygments_lexer": "ipython3",
   "version": "3.6.8"
  }
 },
 "nbformat": 4,
 "nbformat_minor": 2
}
